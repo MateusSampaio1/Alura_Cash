{
 "cells": [
  {
   "cell_type": "code",
   "execution_count": 1,
   "id": "e2ab25dc",
   "metadata": {},
   "outputs": [],
   "source": [
    "import pandas as pd\n",
    "import seaborn as sns\n",
    "import numpy as np\n",
    "import matplotlib.pyplot as plt \n",
    "%matplotlib inline "
   ]
  },
  {
   "cell_type": "code",
   "execution_count": 2,
   "id": "9cb7171e",
   "metadata": {},
   "outputs": [],
   "source": [
    "pd.set_option('Display.max_columns', 27)"
   ]
  },
  {
   "cell_type": "code",
   "execution_count": 3,
   "id": "ab1b9a60",
   "metadata": {},
   "outputs": [
    {
     "data": {
      "text/html": [
       "<div>\n",
       "<style scoped>\n",
       "    .dataframe tbody tr th:only-of-type {\n",
       "        vertical-align: middle;\n",
       "    }\n",
       "\n",
       "    .dataframe tbody tr th {\n",
       "        vertical-align: top;\n",
       "    }\n",
       "\n",
       "    .dataframe thead th {\n",
       "        text-align: right;\n",
       "    }\n",
       "</style>\n",
       "<table border=\"1\" class=\"dataframe\">\n",
       "  <thead>\n",
       "    <tr style=\"text-align: right;\">\n",
       "      <th></th>\n",
       "      <th>Idade</th>\n",
       "      <th>Salario_anual</th>\n",
       "      <th>Situacao_prop</th>\n",
       "      <th>Tempo_trabalho</th>\n",
       "      <th>Motivo_emprest</th>\n",
       "      <th>Pont_emprest</th>\n",
       "      <th>Total_emprest</th>\n",
       "      <th>Tx_juros</th>\n",
       "      <th>Possib_inadimp</th>\n",
       "      <th>Renda_pecentual</th>\n",
       "      <th>Periodo</th>\n",
       "      <th>Inadimplente</th>\n",
       "    </tr>\n",
       "  </thead>\n",
       "  <tbody>\n",
       "    <tr>\n",
       "      <th>0</th>\n",
       "      <td>32.0</td>\n",
       "      <td>22704.0</td>\n",
       "      <td>Rent</td>\n",
       "      <td>4.0</td>\n",
       "      <td>Debtconsolidation</td>\n",
       "      <td>B</td>\n",
       "      <td>6800.0</td>\n",
       "      <td>NaN</td>\n",
       "      <td>0.0</td>\n",
       "      <td>0.30</td>\n",
       "      <td>8</td>\n",
       "      <td>N</td>\n",
       "    </tr>\n",
       "    <tr>\n",
       "      <th>1</th>\n",
       "      <td>34.0</td>\n",
       "      <td>222000.0</td>\n",
       "      <td>Mortgage</td>\n",
       "      <td>0.0</td>\n",
       "      <td>Medical</td>\n",
       "      <td>A</td>\n",
       "      <td>13000.0</td>\n",
       "      <td>8.49</td>\n",
       "      <td>0.0</td>\n",
       "      <td>0.06</td>\n",
       "      <td>7</td>\n",
       "      <td>N</td>\n",
       "    </tr>\n",
       "    <tr>\n",
       "      <th>2</th>\n",
       "      <td>35.0</td>\n",
       "      <td>48000.0</td>\n",
       "      <td>Own</td>\n",
       "      <td>6.0</td>\n",
       "      <td>Homeimprovement</td>\n",
       "      <td>C</td>\n",
       "      <td>4200.0</td>\n",
       "      <td>13.61</td>\n",
       "      <td>0.0</td>\n",
       "      <td>0.09</td>\n",
       "      <td>7</td>\n",
       "      <td>N</td>\n",
       "    </tr>\n",
       "    <tr>\n",
       "      <th>3</th>\n",
       "      <td>40.0</td>\n",
       "      <td>52000.0</td>\n",
       "      <td>Rent</td>\n",
       "      <td>2.0</td>\n",
       "      <td>Education</td>\n",
       "      <td>F</td>\n",
       "      <td>15000.0</td>\n",
       "      <td>18.62</td>\n",
       "      <td>1.0</td>\n",
       "      <td>0.29</td>\n",
       "      <td>17</td>\n",
       "      <td>Y</td>\n",
       "    </tr>\n",
       "    <tr>\n",
       "      <th>4</th>\n",
       "      <td>22.0</td>\n",
       "      <td>24000.0</td>\n",
       "      <td>Own</td>\n",
       "      <td>3.0</td>\n",
       "      <td>Education</td>\n",
       "      <td>B</td>\n",
       "      <td>6000.0</td>\n",
       "      <td>11.49</td>\n",
       "      <td>0.0</td>\n",
       "      <td>0.25</td>\n",
       "      <td>4</td>\n",
       "      <td>N</td>\n",
       "    </tr>\n",
       "    <tr>\n",
       "      <th>...</th>\n",
       "      <td>...</td>\n",
       "      <td>...</td>\n",
       "      <td>...</td>\n",
       "      <td>...</td>\n",
       "      <td>...</td>\n",
       "      <td>...</td>\n",
       "      <td>...</td>\n",
       "      <td>...</td>\n",
       "      <td>...</td>\n",
       "      <td>...</td>\n",
       "      <td>...</td>\n",
       "      <td>...</td>\n",
       "    </tr>\n",
       "    <tr>\n",
       "      <th>34480</th>\n",
       "      <td>22.0</td>\n",
       "      <td>59004.0</td>\n",
       "      <td>Rent</td>\n",
       "      <td>3.0</td>\n",
       "      <td>Education</td>\n",
       "      <td>B</td>\n",
       "      <td>5000.0</td>\n",
       "      <td>11.11</td>\n",
       "      <td>1.0</td>\n",
       "      <td>0.08</td>\n",
       "      <td>3</td>\n",
       "      <td>N</td>\n",
       "    </tr>\n",
       "    <tr>\n",
       "      <th>34481</th>\n",
       "      <td>28.0</td>\n",
       "      <td>36000.0</td>\n",
       "      <td>Mortgage</td>\n",
       "      <td>12.0</td>\n",
       "      <td>Medical</td>\n",
       "      <td>C</td>\n",
       "      <td>1925.0</td>\n",
       "      <td>15.23</td>\n",
       "      <td>0.0</td>\n",
       "      <td>0.05</td>\n",
       "      <td>8</td>\n",
       "      <td>Y</td>\n",
       "    </tr>\n",
       "    <tr>\n",
       "      <th>34482</th>\n",
       "      <td>30.0</td>\n",
       "      <td>95000.0</td>\n",
       "      <td>Mortgage</td>\n",
       "      <td>6.0</td>\n",
       "      <td>Homeimprovement</td>\n",
       "      <td>B</td>\n",
       "      <td>21000.0</td>\n",
       "      <td>11.99</td>\n",
       "      <td>0.0</td>\n",
       "      <td>0.22</td>\n",
       "      <td>5</td>\n",
       "      <td>N</td>\n",
       "    </tr>\n",
       "    <tr>\n",
       "      <th>34483</th>\n",
       "      <td>27.0</td>\n",
       "      <td>45600.0</td>\n",
       "      <td>Mortgage</td>\n",
       "      <td>6.0</td>\n",
       "      <td>Venture</td>\n",
       "      <td>A</td>\n",
       "      <td>15350.0</td>\n",
       "      <td>8.90</td>\n",
       "      <td>0.0</td>\n",
       "      <td>0.34</td>\n",
       "      <td>10</td>\n",
       "      <td>N</td>\n",
       "    </tr>\n",
       "    <tr>\n",
       "      <th>34484</th>\n",
       "      <td>29.0</td>\n",
       "      <td>105000.0</td>\n",
       "      <td>Mortgage</td>\n",
       "      <td>3.0</td>\n",
       "      <td>Venture</td>\n",
       "      <td>A</td>\n",
       "      <td>20000.0</td>\n",
       "      <td>6.91</td>\n",
       "      <td>0.0</td>\n",
       "      <td>0.19</td>\n",
       "      <td>8</td>\n",
       "      <td>N</td>\n",
       "    </tr>\n",
       "  </tbody>\n",
       "</table>\n",
       "<p>34485 rows × 12 columns</p>\n",
       "</div>"
      ],
      "text/plain": [
       "       Idade  Salario_anual Situacao_prop  Tempo_trabalho     Motivo_emprest  \\\n",
       "0       32.0        22704.0          Rent             4.0  Debtconsolidation   \n",
       "1       34.0       222000.0      Mortgage             0.0            Medical   \n",
       "2       35.0        48000.0           Own             6.0    Homeimprovement   \n",
       "3       40.0        52000.0          Rent             2.0          Education   \n",
       "4       22.0        24000.0           Own             3.0          Education   \n",
       "...      ...            ...           ...             ...                ...   \n",
       "34480   22.0        59004.0          Rent             3.0          Education   \n",
       "34481   28.0        36000.0      Mortgage            12.0            Medical   \n",
       "34482   30.0        95000.0      Mortgage             6.0    Homeimprovement   \n",
       "34483   27.0        45600.0      Mortgage             6.0            Venture   \n",
       "34484   29.0       105000.0      Mortgage             3.0            Venture   \n",
       "\n",
       "      Pont_emprest  Total_emprest  Tx_juros  Possib_inadimp  Renda_pecentual  \\\n",
       "0                B         6800.0       NaN             0.0             0.30   \n",
       "1                A        13000.0      8.49             0.0             0.06   \n",
       "2                C         4200.0     13.61             0.0             0.09   \n",
       "3                F        15000.0     18.62             1.0             0.29   \n",
       "4                B         6000.0     11.49             0.0             0.25   \n",
       "...            ...            ...       ...             ...              ...   \n",
       "34480            B         5000.0     11.11             1.0             0.08   \n",
       "34481            C         1925.0     15.23             0.0             0.05   \n",
       "34482            B        21000.0     11.99             0.0             0.22   \n",
       "34483            A        15350.0      8.90             0.0             0.34   \n",
       "34484            A        20000.0      6.91             0.0             0.19   \n",
       "\n",
       "       Periodo Inadimplente  \n",
       "0            8            N  \n",
       "1            7            N  \n",
       "2            7            N  \n",
       "3           17            Y  \n",
       "4            4            N  \n",
       "...        ...          ...  \n",
       "34480        3            N  \n",
       "34481        8            Y  \n",
       "34482        5            N  \n",
       "34483       10            N  \n",
       "34484        8            N  \n",
       "\n",
       "[34485 rows x 12 columns]"
      ]
     },
     "execution_count": 3,
     "metadata": {},
     "output_type": "execute_result"
    }
   ],
   "source": [
    "df = pd.read_csv('..//Dados/New_dados_challenge.csv')\n",
    "df"
   ]
  },
  {
   "cell_type": "code",
   "execution_count": 4,
   "id": "cd0fe036",
   "metadata": {},
   "outputs": [
    {
     "name": "stdout",
     "output_type": "stream",
     "text": [
      "<class 'pandas.core.frame.DataFrame'>\n",
      "RangeIndex: 34485 entries, 0 to 34484\n",
      "Data columns (total 12 columns):\n",
      " #   Column           Non-Null Count  Dtype  \n",
      "---  ------           --------------  -----  \n",
      " 0   Idade            34165 non-null  float64\n",
      " 1   Salario_anual    34150 non-null  float64\n",
      " 2   Situacao_prop    34154 non-null  object \n",
      " 3   Tempo_trabalho   33231 non-null  float64\n",
      " 4   Motivo_emprest   34174 non-null  object \n",
      " 5   Pont_emprest     34176 non-null  object \n",
      " 6   Total_emprest    34154 non-null  float64\n",
      " 7   Tx_juros         30859 non-null  float64\n",
      " 8   Possib_inadimp   34142 non-null  float64\n",
      " 9   Renda_pecentual  34170 non-null  float64\n",
      " 10  Periodo          34485 non-null  int64  \n",
      " 11  Inadimplente     34119 non-null  object \n",
      "dtypes: float64(7), int64(1), object(4)\n",
      "memory usage: 3.2+ MB\n"
     ]
    }
   ],
   "source": [
    "df.info()"
   ]
  },
  {
   "cell_type": "markdown",
   "id": "1d92fae0",
   "metadata": {},
   "source": [
    "> Como é possivel observar, existem muitas colunas com dados faltantes. A coluna que apresenta a maior quantidade de dados faltantes é a coluna Tx_juros com mais de 3600 registros nulos. "
   ]
  },
  {
   "cell_type": "code",
   "execution_count": 5,
   "id": "cc0e71c2",
   "metadata": {
    "scrolled": true
   },
   "outputs": [
    {
     "name": "stdout",
     "output_type": "stream",
     "text": [
      "<class 'pandas.core.frame.DataFrame'>\n",
      "Int64Index: 34119 entries, 0 to 34484\n",
      "Data columns (total 12 columns):\n",
      " #   Column           Non-Null Count  Dtype  \n",
      "---  ------           --------------  -----  \n",
      " 0   Idade            33836 non-null  float64\n",
      " 1   Salario_anual    33819 non-null  float64\n",
      " 2   Situacao_prop    33820 non-null  object \n",
      " 3   Tempo_trabalho   32902 non-null  float64\n",
      " 4   Motivo_emprest   33840 non-null  object \n",
      " 5   Pont_emprest     33846 non-null  object \n",
      " 6   Total_emprest    33820 non-null  float64\n",
      " 7   Tx_juros         30563 non-null  float64\n",
      " 8   Possib_inadimp   33814 non-null  float64\n",
      " 9   Renda_pecentual  33835 non-null  float64\n",
      " 10  Periodo          34119 non-null  int64  \n",
      " 11  Inadimplente     34119 non-null  object \n",
      "dtypes: float64(7), int64(1), object(4)\n",
      "memory usage: 3.4+ MB\n"
     ]
    }
   ],
   "source": [
    "# Realizando a seleção dos registros nulos na variável Target e os removendo.\n",
    "df['Inadimplente'].fillna('', inplace = True)\n",
    "index = df.query(\"Inadimplente == ''\").index\n",
    "df.drop(index = index, inplace = True)\n",
    "df.info()"
   ]
  },
  {
   "cell_type": "markdown",
   "id": "8c643a77",
   "metadata": {},
   "source": [
    "> Após realizar a remoção dos registros com dados faltantes na coluna Inadimplente, ainda existem 4 colunas que contêm dados nulos e que precisam do mesmo método de tratamento aplicado anteriomente. Após isso, tratarei as demais colunas por meio da subistituição dos valores pela média ou mediana. \n",
    "\n",
    "> Essas colunas são: **Situacao_prop**, **Motivo_emprest**, **Pont_emprest** e **Possib_inadimp**."
   ]
  },
  {
   "cell_type": "code",
   "execution_count": 6,
   "id": "12de3d9d",
   "metadata": {},
   "outputs": [],
   "source": [
    "# Selecionando e removendo as linhas com dados nulos presentes na coluna Situação_prop.\n",
    "df['Situacao_prop'].fillna('', inplace = True)\n",
    "index = df.query(\"Situacao_prop == ''\").index\n",
    "df.drop(index = index, inplace = True)"
   ]
  },
  {
   "cell_type": "code",
   "execution_count": 7,
   "id": "3c640957",
   "metadata": {},
   "outputs": [],
   "source": [
    "# Selecionando e removendo as linhas com dados nulos presentes na coluna Motivo_emprest.\n",
    "df['Motivo_emprest'].fillna('', inplace = True)\n",
    "index = df.query(\"Motivo_emprest == ''\").index\n",
    "df.drop(index = index, inplace = True)"
   ]
  },
  {
   "cell_type": "code",
   "execution_count": 8,
   "id": "8cb59374",
   "metadata": {},
   "outputs": [],
   "source": [
    "# Selecionando e removendo as linhas com dados nulos presentes na coluna Pont_emprest.\n",
    "df['Pont_emprest'].fillna('', inplace = True)\n",
    "index = df.query(\"Pont_emprest == ''\").index\n",
    "df.drop(index = index, inplace = True)"
   ]
  },
  {
   "cell_type": "code",
   "execution_count": 9,
   "id": "363f32bd",
   "metadata": {},
   "outputs": [
    {
     "name": "stdout",
     "output_type": "stream",
     "text": [
      "<class 'pandas.core.frame.DataFrame'>\n",
      "RangeIndex: 33129 entries, 0 to 33128\n",
      "Data columns (total 12 columns):\n",
      " #   Column           Non-Null Count  Dtype  \n",
      "---  ------           --------------  -----  \n",
      " 0   Idade            32952 non-null  float64\n",
      " 1   Salario_anual    32966 non-null  float64\n",
      " 2   Situacao_prop    33129 non-null  object \n",
      " 3   Tempo_trabalho   32049 non-null  float64\n",
      " 4   Motivo_emprest   33129 non-null  object \n",
      " 5   Pont_emprest     33129 non-null  object \n",
      " 6   Total_emprest    32963 non-null  float64\n",
      " 7   Tx_juros         29807 non-null  float64\n",
      " 8   Possib_inadimp   33129 non-null  object \n",
      " 9   Renda_pecentual  32966 non-null  float64\n",
      " 10  Periodo          33129 non-null  int64  \n",
      " 11  Inadimplente     33129 non-null  object \n",
      "dtypes: float64(6), int64(1), object(5)\n",
      "memory usage: 3.0+ MB\n"
     ]
    }
   ],
   "source": [
    "# Selecionando e removendo as linhas com dados nulos presentes na coluna Possib_inadimp.\n",
    "df['Possib_inadimp'].fillna('', inplace = True)\n",
    "index = df.query(\"Possib_inadimp == ''\").index\n",
    "df.drop(index = index, inplace = True)\n",
    "df.reset_index(inplace = True, drop = True)\n",
    "df.info()"
   ]
  },
  {
   "cell_type": "markdown",
   "id": "dc021777",
   "metadata": {},
   "source": [
    "> Depois de verificar os valores da média e da mediana da coluna **Tx_juros** e encontrar valores bem próximos, acredito que seja razoável substituir os valores faltantes por 11%.\n",
    "\n",
    "> Na coluna **Tempo_trabalho** também apresenta comportamento semelhante e os resultados relativos a média e mediana são bem próximos, mesmo contendo Outlier. Deste modo, irei completar essas linhas nulas com 4 anos."
   ]
  },
  {
   "cell_type": "code",
   "execution_count": 10,
   "id": "905d703f",
   "metadata": {},
   "outputs": [],
   "source": [
    "# Substituindo os valores faltantes da coluna tx de juros.\n",
    "df['Tx_juros'].fillna(11, inplace = True)"
   ]
  },
  {
   "cell_type": "code",
   "execution_count": 11,
   "id": "fd5ee2c4",
   "metadata": {},
   "outputs": [],
   "source": [
    "# Substituindo os valores Nan da coluna Tempo de trabalho\n",
    "df['Tempo_trabalho'].fillna(4, inplace = True)"
   ]
  },
  {
   "cell_type": "markdown",
   "id": "f1ccd341",
   "metadata": {},
   "source": [
    "> As demais colunas terão os dados ausentes substituídos pela **mediana** dos valores presentes na coluna, visto que são colunas que podem apresentar **Outliers**, além de possuir uma variação considerável nos dados, o que pode **distorcer a média**."
   ]
  },
  {
   "cell_type": "code",
   "execution_count": 12,
   "id": "3acd5acd",
   "metadata": {},
   "outputs": [],
   "source": [
    "# Calculando a mediana e substituindo os valores faltantes(Salário anual)\n",
    "mediana = df['Salario_anual'].median()\n",
    "df['Salario_anual'].fillna(mediana, inplace = True)"
   ]
  },
  {
   "cell_type": "code",
   "execution_count": 13,
   "id": "7297bc0a",
   "metadata": {},
   "outputs": [],
   "source": [
    "# Calculando a mediana e substituindo os valores faltantes(Total Empréstimo)\n",
    "mediana = df['Total_emprest'].median()\n",
    "df['Total_emprest'].fillna(mediana, inplace = True)"
   ]
  },
  {
   "cell_type": "code",
   "execution_count": 14,
   "id": "ef2fa698",
   "metadata": {},
   "outputs": [],
   "source": [
    "# Calculando a mediana e substituindo os valores faltantes(Renda Percentual)\n",
    "mediana = df['Renda_pecentual'].median()\n",
    "df['Renda_pecentual'].fillna(mediana, inplace = True)"
   ]
  },
  {
   "cell_type": "code",
   "execution_count": 15,
   "id": "b6cabe21",
   "metadata": {},
   "outputs": [],
   "source": [
    "# Calculando a mediana e sustituindo os valores faltantes (Idade)\n",
    "mediana = df['Idade'].median()\n",
    "df['Idade'].fillna(mediana, inplace = True)"
   ]
  },
  {
   "cell_type": "code",
   "execution_count": 16,
   "id": "2ac57daa",
   "metadata": {},
   "outputs": [
    {
     "name": "stdout",
     "output_type": "stream",
     "text": [
      "<class 'pandas.core.frame.DataFrame'>\n",
      "RangeIndex: 33129 entries, 0 to 33128\n",
      "Data columns (total 12 columns):\n",
      " #   Column           Non-Null Count  Dtype  \n",
      "---  ------           --------------  -----  \n",
      " 0   Idade            33129 non-null  float64\n",
      " 1   Salario_anual    33129 non-null  float64\n",
      " 2   Situacao_prop    33129 non-null  object \n",
      " 3   Tempo_trabalho   33129 non-null  float64\n",
      " 4   Motivo_emprest   33129 non-null  object \n",
      " 5   Pont_emprest     33129 non-null  object \n",
      " 6   Total_emprest    33129 non-null  float64\n",
      " 7   Tx_juros         33129 non-null  float64\n",
      " 8   Possib_inadimp   33129 non-null  object \n",
      " 9   Renda_pecentual  33129 non-null  float64\n",
      " 10  Periodo          33129 non-null  int64  \n",
      " 11  Inadimplente     33129 non-null  object \n",
      "dtypes: float64(6), int64(1), object(5)\n",
      "memory usage: 3.0+ MB\n"
     ]
    }
   ],
   "source": [
    "df.info()"
   ]
  },
  {
   "cell_type": "code",
   "execution_count": 17,
   "id": "17005f68",
   "metadata": {},
   "outputs": [
    {
     "data": {
      "text/plain": [
       "Idade              0\n",
       "Salario_anual      0\n",
       "Situacao_prop      0\n",
       "Tempo_trabalho     0\n",
       "Motivo_emprest     0\n",
       "Pont_emprest       0\n",
       "Total_emprest      0\n",
       "Tx_juros           0\n",
       "Possib_inadimp     0\n",
       "Renda_pecentual    0\n",
       "Periodo            0\n",
       "Inadimplente       0\n",
       "dtype: int64"
      ]
     },
     "execution_count": 17,
     "metadata": {},
     "output_type": "execute_result"
    }
   ],
   "source": [
    "df.isnull().sum()"
   ]
  },
  {
   "cell_type": "markdown",
   "id": "d7db843e",
   "metadata": {},
   "source": [
    "As colunas com dados ausentes foram tratadas e agora é possível processeguir com as próxima etapas."
   ]
  },
  {
   "cell_type": "markdown",
   "id": "77697093",
   "metadata": {},
   "source": [
    "## Visualizando a distribuição das variáveis"
   ]
  },
  {
   "cell_type": "code",
   "execution_count": 18,
   "id": "6c318c5d",
   "metadata": {},
   "outputs": [
    {
     "data": {
      "image/png": "[encoded data removed]",
      "text/plain": [
       "<Figure size 432x360 with 1 Axes>"
      ]
     },
     "metadata": {
      "needs_background": "light"
     },
     "output_type": "display_data"
    }
   ],
   "source": [
    "# Boxplot da variável Idade.\n",
    "ax = sns.boxplot(x = 'Idade', data = df)\n",
    "ax.figure.set_size_inches(6,5)\n",
    "ax.set_title('Distribuição da variável Idade', fontsize = 20)\n",
    "ax.set_xlabel('Idade', fontsize = 15)\n",
    "ax = ax"
   ]
  },
  {
   "cell_type": "markdown",
   "id": "73076277",
   "metadata": {},
   "source": [
    "> Existem registros de clientes com **mais de 120 anos**. Essas linhas **serão removidas** do conjunto de dados por se tratar de **Outliers**."
   ]
  },
  {
   "cell_type": "code",
   "execution_count": 19,
   "id": "eaf4ac2a",
   "metadata": {},
   "outputs": [
    {
     "data": {
      "image/png": "[encoded data removed]",
      "text/plain": [
       "<Figure size 720x360 with 1 Axes>"
      ]
     },
     "metadata": {
      "needs_background": "light"
     },
     "output_type": "display_data"
    }
   ],
   "source": [
    "# Boxplot da variável Tempo_trabalho.\n",
    "ax = sns.boxplot(x = 'Tempo_trabalho', data = df)\n",
    "ax.figure.set_size_inches(10,5)\n",
    "ax.set_title('Distribuição da variável Tempo_trabalho', fontsize = 20)\n",
    "ax.set_xlabel('Tempo_trabalho', fontsize = 15)\n",
    "ax = ax"
   ]
  },
  {
   "cell_type": "markdown",
   "id": "ca16d1d8",
   "metadata": {},
   "source": [
    "> Nesta variável também existem valores que estão muito fora da realidade e por tanto, também serão removidos."
   ]
  },
  {
   "cell_type": "code",
   "execution_count": 20,
   "id": "c223b185",
   "metadata": {},
   "outputs": [
    {
     "data": {
      "image/png": "[encoded data removed]",
      "text/plain": [
       "<Figure size 720x360 with 1 Axes>"
      ]
     },
     "metadata": {
      "needs_background": "light"
     },
     "output_type": "display_data"
    }
   ],
   "source": [
    "# Boxplot da variável Tx_juros.\n",
    "ax = sns.boxplot(x = 'Tx_juros', data = df)\n",
    "ax.figure.set_size_inches(10,5)\n",
    "ax.set_title('Distribuição da variável Tx_juros', fontsize = 20)\n",
    "ax.set_xlabel('Taxa_juros', fontsize = 15)\n",
    "ax = ax"
   ]
  },
  {
   "cell_type": "code",
   "execution_count": 21,
   "id": "c1fc65c6",
   "metadata": {},
   "outputs": [
    {
     "data": {
      "image/png": "[encoded data removed]",
      "text/plain": [
       "<Figure size 720x360 with 1 Axes>"
      ]
     },
     "metadata": {
      "needs_background": "light"
     },
     "output_type": "display_data"
    }
   ],
   "source": [
    "# Boxplot da variável Renda_pecentual.\n",
    "ax = sns.boxplot(x = 'Renda_pecentual', data = df)\n",
    "ax.figure.set_size_inches(10,5)\n",
    "ax.set_title('Distribuição da variável Renda_percentual', fontsize = 20)\n",
    "ax.set_xlabel('Renda_percentual', fontsize = 15)\n",
    "ax = ax"
   ]
  },
  {
   "cell_type": "markdown",
   "id": "40c1c397",
   "metadata": {},
   "source": [
    "> Apenas as colunas **Idade** e **Tempo_trabalho** apresentaram Outliers, esses registros serão removidos do conjunto de dados."
   ]
  },
  {
   "cell_type": "code",
   "execution_count": 22,
   "id": "cfc6b4a7",
   "metadata": {},
   "outputs": [],
   "source": [
    "# Removendo as linhas dos Outliers da Idade\n",
    "index = df.query('Idade > 100').index\n",
    "df.drop(index = index, inplace = True)"
   ]
  },
  {
   "cell_type": "code",
   "execution_count": 23,
   "id": "1186c51a",
   "metadata": {},
   "outputs": [],
   "source": [
    "# Removendo as linhas dos Outliers da coluna Tempo_trabalho\n",
    "index = df.query('Tempo_trabalho > 60').index\n",
    "df.drop(index = index, inplace = True)"
   ]
  },
  {
   "cell_type": "code",
   "execution_count": 24,
   "id": "fd694cff",
   "metadata": {},
   "outputs": [
    {
     "data": {
      "image/png": "[encoded data removed]",
      "text/plain": [
       "<Figure size 1440x720 with 2 Axes>"
      ]
     },
     "metadata": {},
     "output_type": "display_data"
    }
   ],
   "source": [
    "# Plotando a correlação entre as variáveis\n",
    "corr = df.corr()\n",
    "mask = np.zeros_like(corr)\n",
    "mask[np.triu_indices_from(mask)] = True\n",
    "with sns.axes_style('white'):\n",
    "    f, ax =plt.subplots(figsize=(20,10))\n",
    "    ax = sns.heatmap(corr, mask = mask, square = True, annot = True)"
   ]
  },
  {
   "cell_type": "markdown",
   "id": "1bd06938",
   "metadata": {},
   "source": [
    "> A correlação entre as variáveis quantitativas presentes neste dataset é fraca em sua grande maioria."
   ]
  },
  {
   "cell_type": "code",
   "execution_count": 25,
   "id": "b6054369",
   "metadata": {},
   "outputs": [
    {
     "name": "stdout",
     "output_type": "stream",
     "text": [
      "------------------------------------------------------\n",
      "Situacao_prop\n",
      "['Rent' 'Mortgage' 'Own' 'Other']\n",
      "------------------------------------------------------\n",
      "Motivo_emprest\n",
      "['Debtconsolidation' 'Medical' 'Homeimprovement' 'Education' 'Personal'\n",
      " 'Venture']\n",
      "------------------------------------------------------\n",
      "Pont_emprest\n",
      "['B' 'A' 'C' 'F' 'D' 'E' 'G']\n",
      "------------------------------------------------------\n",
      "Inadimplente\n",
      "['N' 'Y']\n"
     ]
    }
   ],
   "source": [
    "# Observando as variáveis categóricas\n",
    "for column in df[['Situacao_prop','Motivo_emprest','Pont_emprest','Inadimplente']].columns:\n",
    "    print('------'*9)\n",
    "    print(column)\n",
    "    print(df[column].unique())"
   ]
  },
  {
   "cell_type": "code",
   "execution_count": 26,
   "id": "a1bfd6d8",
   "metadata": {},
   "outputs": [],
   "source": [
    "# Transformando os dados da variável Inadimplente (N:0 / Y:1).\n",
    "\n",
    "df['Inadimplente'] = df['Inadimplente'].replace({'N':0, 'Y':1})\n",
    "df = df.astype({'Possib_inadimp':int})"
   ]
  },
  {
   "cell_type": "code",
   "execution_count": 27,
   "id": "187e485b",
   "metadata": {},
   "outputs": [
    {
     "data": {
      "text/html": [
       "<div>\n",
       "<style scoped>\n",
       "    .dataframe tbody tr th:only-of-type {\n",
       "        vertical-align: middle;\n",
       "    }\n",
       "\n",
       "    .dataframe tbody tr th {\n",
       "        vertical-align: top;\n",
       "    }\n",
       "\n",
       "    .dataframe thead th {\n",
       "        text-align: right;\n",
       "    }\n",
       "</style>\n",
       "<table border=\"1\" class=\"dataframe\">\n",
       "  <thead>\n",
       "    <tr style=\"text-align: right;\">\n",
       "      <th></th>\n",
       "      <th>onehotencoder__Situacao_prop_Mortgage</th>\n",
       "      <th>onehotencoder__Situacao_prop_Other</th>\n",
       "      <th>onehotencoder__Situacao_prop_Own</th>\n",
       "      <th>onehotencoder__Situacao_prop_Rent</th>\n",
       "      <th>onehotencoder__Motivo_emprest_Debtconsolidation</th>\n",
       "      <th>onehotencoder__Motivo_emprest_Education</th>\n",
       "      <th>onehotencoder__Motivo_emprest_Homeimprovement</th>\n",
       "      <th>onehotencoder__Motivo_emprest_Medical</th>\n",
       "      <th>onehotencoder__Motivo_emprest_Personal</th>\n",
       "      <th>onehotencoder__Motivo_emprest_Venture</th>\n",
       "      <th>onehotencoder__Pont_emprest_A</th>\n",
       "      <th>onehotencoder__Pont_emprest_B</th>\n",
       "      <th>onehotencoder__Pont_emprest_C</th>\n",
       "      <th>onehotencoder__Pont_emprest_D</th>\n",
       "      <th>onehotencoder__Pont_emprest_E</th>\n",
       "      <th>onehotencoder__Pont_emprest_F</th>\n",
       "      <th>onehotencoder__Pont_emprest_G</th>\n",
       "      <th>remainder__Idade</th>\n",
       "      <th>remainder__Salario_anual</th>\n",
       "      <th>remainder__Tempo_trabalho</th>\n",
       "      <th>remainder__Total_emprest</th>\n",
       "      <th>remainder__Tx_juros</th>\n",
       "      <th>remainder__Renda_pecentual</th>\n",
       "      <th>remainder__Periodo</th>\n",
       "      <th>remainder__Inadimplente</th>\n",
       "    </tr>\n",
       "  </thead>\n",
       "  <tbody>\n",
       "    <tr>\n",
       "      <th>0</th>\n",
       "      <td>0.0</td>\n",
       "      <td>0.0</td>\n",
       "      <td>0.0</td>\n",
       "      <td>1.0</td>\n",
       "      <td>1.0</td>\n",
       "      <td>0.0</td>\n",
       "      <td>0.0</td>\n",
       "      <td>0.0</td>\n",
       "      <td>0.0</td>\n",
       "      <td>0.0</td>\n",
       "      <td>0.0</td>\n",
       "      <td>1.0</td>\n",
       "      <td>0.0</td>\n",
       "      <td>0.0</td>\n",
       "      <td>0.0</td>\n",
       "      <td>0.0</td>\n",
       "      <td>0.0</td>\n",
       "      <td>32.0</td>\n",
       "      <td>22704.0</td>\n",
       "      <td>4.0</td>\n",
       "      <td>6800.0</td>\n",
       "      <td>11.00</td>\n",
       "      <td>0.30</td>\n",
       "      <td>8.0</td>\n",
       "      <td>0.0</td>\n",
       "    </tr>\n",
       "    <tr>\n",
       "      <th>1</th>\n",
       "      <td>1.0</td>\n",
       "      <td>0.0</td>\n",
       "      <td>0.0</td>\n",
       "      <td>0.0</td>\n",
       "      <td>0.0</td>\n",
       "      <td>0.0</td>\n",
       "      <td>0.0</td>\n",
       "      <td>1.0</td>\n",
       "      <td>0.0</td>\n",
       "      <td>0.0</td>\n",
       "      <td>1.0</td>\n",
       "      <td>0.0</td>\n",
       "      <td>0.0</td>\n",
       "      <td>0.0</td>\n",
       "      <td>0.0</td>\n",
       "      <td>0.0</td>\n",
       "      <td>0.0</td>\n",
       "      <td>34.0</td>\n",
       "      <td>222000.0</td>\n",
       "      <td>0.0</td>\n",
       "      <td>13000.0</td>\n",
       "      <td>8.49</td>\n",
       "      <td>0.06</td>\n",
       "      <td>7.0</td>\n",
       "      <td>0.0</td>\n",
       "    </tr>\n",
       "    <tr>\n",
       "      <th>2</th>\n",
       "      <td>0.0</td>\n",
       "      <td>0.0</td>\n",
       "      <td>1.0</td>\n",
       "      <td>0.0</td>\n",
       "      <td>0.0</td>\n",
       "      <td>0.0</td>\n",
       "      <td>1.0</td>\n",
       "      <td>0.0</td>\n",
       "      <td>0.0</td>\n",
       "      <td>0.0</td>\n",
       "      <td>0.0</td>\n",
       "      <td>0.0</td>\n",
       "      <td>1.0</td>\n",
       "      <td>0.0</td>\n",
       "      <td>0.0</td>\n",
       "      <td>0.0</td>\n",
       "      <td>0.0</td>\n",
       "      <td>35.0</td>\n",
       "      <td>48000.0</td>\n",
       "      <td>6.0</td>\n",
       "      <td>4200.0</td>\n",
       "      <td>13.61</td>\n",
       "      <td>0.09</td>\n",
       "      <td>7.0</td>\n",
       "      <td>0.0</td>\n",
       "    </tr>\n",
       "    <tr>\n",
       "      <th>3</th>\n",
       "      <td>0.0</td>\n",
       "      <td>0.0</td>\n",
       "      <td>0.0</td>\n",
       "      <td>1.0</td>\n",
       "      <td>0.0</td>\n",
       "      <td>1.0</td>\n",
       "      <td>0.0</td>\n",
       "      <td>0.0</td>\n",
       "      <td>0.0</td>\n",
       "      <td>0.0</td>\n",
       "      <td>0.0</td>\n",
       "      <td>0.0</td>\n",
       "      <td>0.0</td>\n",
       "      <td>0.0</td>\n",
       "      <td>0.0</td>\n",
       "      <td>1.0</td>\n",
       "      <td>0.0</td>\n",
       "      <td>40.0</td>\n",
       "      <td>52000.0</td>\n",
       "      <td>2.0</td>\n",
       "      <td>15000.0</td>\n",
       "      <td>18.62</td>\n",
       "      <td>0.29</td>\n",
       "      <td>17.0</td>\n",
       "      <td>1.0</td>\n",
       "    </tr>\n",
       "    <tr>\n",
       "      <th>4</th>\n",
       "      <td>0.0</td>\n",
       "      <td>0.0</td>\n",
       "      <td>1.0</td>\n",
       "      <td>0.0</td>\n",
       "      <td>0.0</td>\n",
       "      <td>1.0</td>\n",
       "      <td>0.0</td>\n",
       "      <td>0.0</td>\n",
       "      <td>0.0</td>\n",
       "      <td>0.0</td>\n",
       "      <td>0.0</td>\n",
       "      <td>1.0</td>\n",
       "      <td>0.0</td>\n",
       "      <td>0.0</td>\n",
       "      <td>0.0</td>\n",
       "      <td>0.0</td>\n",
       "      <td>0.0</td>\n",
       "      <td>22.0</td>\n",
       "      <td>24000.0</td>\n",
       "      <td>3.0</td>\n",
       "      <td>6000.0</td>\n",
       "      <td>11.49</td>\n",
       "      <td>0.25</td>\n",
       "      <td>4.0</td>\n",
       "      <td>0.0</td>\n",
       "    </tr>\n",
       "  </tbody>\n",
       "</table>\n",
       "</div>"
      ],
      "text/plain": [
       "   onehotencoder__Situacao_prop_Mortgage  onehotencoder__Situacao_prop_Other  \\\n",
       "0                                    0.0                                 0.0   \n",
       "1                                    1.0                                 0.0   \n",
       "2                                    0.0                                 0.0   \n",
       "3                                    0.0                                 0.0   \n",
       "4                                    0.0                                 0.0   \n",
       "\n",
       "   onehotencoder__Situacao_prop_Own  onehotencoder__Situacao_prop_Rent  \\\n",
       "0                               0.0                                1.0   \n",
       "1                               0.0                                0.0   \n",
       "2                               1.0                                0.0   \n",
       "3                               0.0                                1.0   \n",
       "4                               1.0                                0.0   \n",
       "\n",
       "   onehotencoder__Motivo_emprest_Debtconsolidation  \\\n",
       "0                                              1.0   \n",
       "1                                              0.0   \n",
       "2                                              0.0   \n",
       "3                                              0.0   \n",
       "4                                              0.0   \n",
       "\n",
       "   onehotencoder__Motivo_emprest_Education  \\\n",
       "0                                      0.0   \n",
       "1                                      0.0   \n",
       "2                                      0.0   \n",
       "3                                      1.0   \n",
       "4                                      1.0   \n",
       "\n",
       "   onehotencoder__Motivo_emprest_Homeimprovement  \\\n",
       "0                                            0.0   \n",
       "1                                            0.0   \n",
       "2                                            1.0   \n",
       "3                                            0.0   \n",
       "4                                            0.0   \n",
       "\n",
       "   onehotencoder__Motivo_emprest_Medical  \\\n",
       "0                                    0.0   \n",
       "1                                    1.0   \n",
       "2                                    0.0   \n",
       "3                                    0.0   \n",
       "4                                    0.0   \n",
       "\n",
       "   onehotencoder__Motivo_emprest_Personal  \\\n",
       "0                                     0.0   \n",
       "1                                     0.0   \n",
       "2                                     0.0   \n",
       "3                                     0.0   \n",
       "4                                     0.0   \n",
       "\n",
       "   onehotencoder__Motivo_emprest_Venture  onehotencoder__Pont_emprest_A  \\\n",
       "0                                    0.0                            0.0   \n",
       "1                                    0.0                            1.0   \n",
       "2                                    0.0                            0.0   \n",
       "3                                    0.0                            0.0   \n",
       "4                                    0.0                            0.0   \n",
       "\n",
       "   onehotencoder__Pont_emprest_B  onehotencoder__Pont_emprest_C  \\\n",
       "0                            1.0                            0.0   \n",
       "1                            0.0                            0.0   \n",
       "2                            0.0                            1.0   \n",
       "3                            0.0                            0.0   \n",
       "4                            1.0                            0.0   \n",
       "\n",
       "   onehotencoder__Pont_emprest_D  onehotencoder__Pont_emprest_E  \\\n",
       "0                            0.0                            0.0   \n",
       "1                            0.0                            0.0   \n",
       "2                            0.0                            0.0   \n",
       "3                            0.0                            0.0   \n",
       "4                            0.0                            0.0   \n",
       "\n",
       "   onehotencoder__Pont_emprest_F  onehotencoder__Pont_emprest_G  \\\n",
       "0                            0.0                            0.0   \n",
       "1                            0.0                            0.0   \n",
       "2                            0.0                            0.0   \n",
       "3                            1.0                            0.0   \n",
       "4                            0.0                            0.0   \n",
       "\n",
       "   remainder__Idade  remainder__Salario_anual  remainder__Tempo_trabalho  \\\n",
       "0              32.0                   22704.0                        4.0   \n",
       "1              34.0                  222000.0                        0.0   \n",
       "2              35.0                   48000.0                        6.0   \n",
       "3              40.0                   52000.0                        2.0   \n",
       "4              22.0                   24000.0                        3.0   \n",
       "\n",
       "   remainder__Total_emprest  remainder__Tx_juros  remainder__Renda_pecentual  \\\n",
       "0                    6800.0                11.00                        0.30   \n",
       "1                   13000.0                 8.49                        0.06   \n",
       "2                    4200.0                13.61                        0.09   \n",
       "3                   15000.0                18.62                        0.29   \n",
       "4                    6000.0                11.49                        0.25   \n",
       "\n",
       "   remainder__Periodo  remainder__Inadimplente  \n",
       "0                 8.0                      0.0  \n",
       "1                 7.0                      0.0  \n",
       "2                 7.0                      0.0  \n",
       "3                17.0                      1.0  \n",
       "4                 4.0                      0.0  "
      ]
     },
     "execution_count": 27,
     "metadata": {},
     "output_type": "execute_result"
    }
   ],
   "source": [
    "# Encoding das variáveis qualitativas.\n",
    "from sklearn.compose import make_column_transformer\n",
    "from sklearn.preprocessing import OneHotEncoder\n",
    "\n",
    "colunas = ['Situacao_prop','Motivo_emprest','Pont_emprest']\n",
    "encoding = make_column_transformer((OneHotEncoder(), colunas), remainder='passthrough')\n",
    "feature = df.drop(columns = ['Possib_inadimp'])\n",
    "\n",
    "new_df = encoding.fit_transform(feature)\n",
    "new_df = pd.DataFrame(new_df, columns=encoding.get_feature_names_out())\n",
    "new_df.head()"
   ]
  },
  {
   "cell_type": "code",
   "execution_count": 28,
   "id": "c1f193ba",
   "metadata": {},
   "outputs": [
    {
     "data": {
      "text/html": [
       "<div>\n",
       "<style scoped>\n",
       "    .dataframe tbody tr th:only-of-type {\n",
       "        vertical-align: middle;\n",
       "    }\n",
       "\n",
       "    .dataframe tbody tr th {\n",
       "        vertical-align: top;\n",
       "    }\n",
       "\n",
       "    .dataframe thead th {\n",
       "        text-align: right;\n",
       "    }\n",
       "</style>\n",
       "<table border=\"1\" class=\"dataframe\">\n",
       "  <thead>\n",
       "    <tr style=\"text-align: right;\">\n",
       "      <th></th>\n",
       "      <th>remainder__Idade</th>\n",
       "      <th>remainder__Salario_anual</th>\n",
       "      <th>remainder__Tempo_trabalho</th>\n",
       "      <th>remainder__Total_emprest</th>\n",
       "      <th>remainder__Tx_juros</th>\n",
       "      <th>remainder__Renda_pecentual</th>\n",
       "      <th>remainder__Periodo</th>\n",
       "      <th>remainder__Inadimplente</th>\n",
       "      <th>onehotencoder__Situacao_prop_Mortgage</th>\n",
       "      <th>onehotencoder__Situacao_prop_Other</th>\n",
       "      <th>onehotencoder__Situacao_prop_Own</th>\n",
       "      <th>onehotencoder__Situacao_prop_Rent</th>\n",
       "      <th>onehotencoder__Motivo_emprest_Debtconsolidation</th>\n",
       "      <th>onehotencoder__Motivo_emprest_Education</th>\n",
       "      <th>onehotencoder__Motivo_emprest_Homeimprovement</th>\n",
       "      <th>onehotencoder__Motivo_emprest_Medical</th>\n",
       "      <th>onehotencoder__Motivo_emprest_Personal</th>\n",
       "      <th>onehotencoder__Motivo_emprest_Venture</th>\n",
       "      <th>onehotencoder__Pont_emprest_A</th>\n",
       "      <th>onehotencoder__Pont_emprest_B</th>\n",
       "      <th>onehotencoder__Pont_emprest_C</th>\n",
       "      <th>onehotencoder__Pont_emprest_D</th>\n",
       "      <th>onehotencoder__Pont_emprest_E</th>\n",
       "      <th>onehotencoder__Pont_emprest_F</th>\n",
       "      <th>onehotencoder__Pont_emprest_G</th>\n",
       "    </tr>\n",
       "  </thead>\n",
       "  <tbody>\n",
       "    <tr>\n",
       "      <th>0</th>\n",
       "      <td>32.0</td>\n",
       "      <td>22704.0</td>\n",
       "      <td>4.0</td>\n",
       "      <td>6800.0</td>\n",
       "      <td>11.00</td>\n",
       "      <td>0.30</td>\n",
       "      <td>8.0</td>\n",
       "      <td>0.0</td>\n",
       "      <td>0.0</td>\n",
       "      <td>0.0</td>\n",
       "      <td>0.0</td>\n",
       "      <td>1.0</td>\n",
       "      <td>1.0</td>\n",
       "      <td>0.0</td>\n",
       "      <td>0.0</td>\n",
       "      <td>0.0</td>\n",
       "      <td>0.0</td>\n",
       "      <td>0.0</td>\n",
       "      <td>0.0</td>\n",
       "      <td>1.0</td>\n",
       "      <td>0.0</td>\n",
       "      <td>0.0</td>\n",
       "      <td>0.0</td>\n",
       "      <td>0.0</td>\n",
       "      <td>0.0</td>\n",
       "    </tr>\n",
       "    <tr>\n",
       "      <th>1</th>\n",
       "      <td>34.0</td>\n",
       "      <td>222000.0</td>\n",
       "      <td>0.0</td>\n",
       "      <td>13000.0</td>\n",
       "      <td>8.49</td>\n",
       "      <td>0.06</td>\n",
       "      <td>7.0</td>\n",
       "      <td>0.0</td>\n",
       "      <td>1.0</td>\n",
       "      <td>0.0</td>\n",
       "      <td>0.0</td>\n",
       "      <td>0.0</td>\n",
       "      <td>0.0</td>\n",
       "      <td>0.0</td>\n",
       "      <td>0.0</td>\n",
       "      <td>1.0</td>\n",
       "      <td>0.0</td>\n",
       "      <td>0.0</td>\n",
       "      <td>1.0</td>\n",
       "      <td>0.0</td>\n",
       "      <td>0.0</td>\n",
       "      <td>0.0</td>\n",
       "      <td>0.0</td>\n",
       "      <td>0.0</td>\n",
       "      <td>0.0</td>\n",
       "    </tr>\n",
       "    <tr>\n",
       "      <th>2</th>\n",
       "      <td>35.0</td>\n",
       "      <td>48000.0</td>\n",
       "      <td>6.0</td>\n",
       "      <td>4200.0</td>\n",
       "      <td>13.61</td>\n",
       "      <td>0.09</td>\n",
       "      <td>7.0</td>\n",
       "      <td>0.0</td>\n",
       "      <td>0.0</td>\n",
       "      <td>0.0</td>\n",
       "      <td>1.0</td>\n",
       "      <td>0.0</td>\n",
       "      <td>0.0</td>\n",
       "      <td>0.0</td>\n",
       "      <td>1.0</td>\n",
       "      <td>0.0</td>\n",
       "      <td>0.0</td>\n",
       "      <td>0.0</td>\n",
       "      <td>0.0</td>\n",
       "      <td>0.0</td>\n",
       "      <td>1.0</td>\n",
       "      <td>0.0</td>\n",
       "      <td>0.0</td>\n",
       "      <td>0.0</td>\n",
       "      <td>0.0</td>\n",
       "    </tr>\n",
       "    <tr>\n",
       "      <th>3</th>\n",
       "      <td>40.0</td>\n",
       "      <td>52000.0</td>\n",
       "      <td>2.0</td>\n",
       "      <td>15000.0</td>\n",
       "      <td>18.62</td>\n",
       "      <td>0.29</td>\n",
       "      <td>17.0</td>\n",
       "      <td>1.0</td>\n",
       "      <td>0.0</td>\n",
       "      <td>0.0</td>\n",
       "      <td>0.0</td>\n",
       "      <td>1.0</td>\n",
       "      <td>0.0</td>\n",
       "      <td>1.0</td>\n",
       "      <td>0.0</td>\n",
       "      <td>0.0</td>\n",
       "      <td>0.0</td>\n",
       "      <td>0.0</td>\n",
       "      <td>0.0</td>\n",
       "      <td>0.0</td>\n",
       "      <td>0.0</td>\n",
       "      <td>0.0</td>\n",
       "      <td>0.0</td>\n",
       "      <td>1.0</td>\n",
       "      <td>0.0</td>\n",
       "    </tr>\n",
       "    <tr>\n",
       "      <th>4</th>\n",
       "      <td>22.0</td>\n",
       "      <td>24000.0</td>\n",
       "      <td>3.0</td>\n",
       "      <td>6000.0</td>\n",
       "      <td>11.49</td>\n",
       "      <td>0.25</td>\n",
       "      <td>4.0</td>\n",
       "      <td>0.0</td>\n",
       "      <td>0.0</td>\n",
       "      <td>0.0</td>\n",
       "      <td>1.0</td>\n",
       "      <td>0.0</td>\n",
       "      <td>0.0</td>\n",
       "      <td>1.0</td>\n",
       "      <td>0.0</td>\n",
       "      <td>0.0</td>\n",
       "      <td>0.0</td>\n",
       "      <td>0.0</td>\n",
       "      <td>0.0</td>\n",
       "      <td>1.0</td>\n",
       "      <td>0.0</td>\n",
       "      <td>0.0</td>\n",
       "      <td>0.0</td>\n",
       "      <td>0.0</td>\n",
       "      <td>0.0</td>\n",
       "    </tr>\n",
       "  </tbody>\n",
       "</table>\n",
       "</div>"
      ],
      "text/plain": [
       "   remainder__Idade  remainder__Salario_anual  remainder__Tempo_trabalho  \\\n",
       "0              32.0                   22704.0                        4.0   \n",
       "1              34.0                  222000.0                        0.0   \n",
       "2              35.0                   48000.0                        6.0   \n",
       "3              40.0                   52000.0                        2.0   \n",
       "4              22.0                   24000.0                        3.0   \n",
       "\n",
       "   remainder__Total_emprest  remainder__Tx_juros  remainder__Renda_pecentual  \\\n",
       "0                    6800.0                11.00                        0.30   \n",
       "1                   13000.0                 8.49                        0.06   \n",
       "2                    4200.0                13.61                        0.09   \n",
       "3                   15000.0                18.62                        0.29   \n",
       "4                    6000.0                11.49                        0.25   \n",
       "\n",
       "   remainder__Periodo  remainder__Inadimplente  \\\n",
       "0                 8.0                      0.0   \n",
       "1                 7.0                      0.0   \n",
       "2                 7.0                      0.0   \n",
       "3                17.0                      1.0   \n",
       "4                 4.0                      0.0   \n",
       "\n",
       "   onehotencoder__Situacao_prop_Mortgage  onehotencoder__Situacao_prop_Other  \\\n",
       "0                                    0.0                                 0.0   \n",
       "1                                    1.0                                 0.0   \n",
       "2                                    0.0                                 0.0   \n",
       "3                                    0.0                                 0.0   \n",
       "4                                    0.0                                 0.0   \n",
       "\n",
       "   onehotencoder__Situacao_prop_Own  onehotencoder__Situacao_prop_Rent  \\\n",
       "0                               0.0                                1.0   \n",
       "1                               0.0                                0.0   \n",
       "2                               1.0                                0.0   \n",
       "3                               0.0                                1.0   \n",
       "4                               1.0                                0.0   \n",
       "\n",
       "   onehotencoder__Motivo_emprest_Debtconsolidation  \\\n",
       "0                                              1.0   \n",
       "1                                              0.0   \n",
       "2                                              0.0   \n",
       "3                                              0.0   \n",
       "4                                              0.0   \n",
       "\n",
       "   onehotencoder__Motivo_emprest_Education  \\\n",
       "0                                      0.0   \n",
       "1                                      0.0   \n",
       "2                                      0.0   \n",
       "3                                      1.0   \n",
       "4                                      1.0   \n",
       "\n",
       "   onehotencoder__Motivo_emprest_Homeimprovement  \\\n",
       "0                                            0.0   \n",
       "1                                            0.0   \n",
       "2                                            1.0   \n",
       "3                                            0.0   \n",
       "4                                            0.0   \n",
       "\n",
       "   onehotencoder__Motivo_emprest_Medical  \\\n",
       "0                                    0.0   \n",
       "1                                    1.0   \n",
       "2                                    0.0   \n",
       "3                                    0.0   \n",
       "4                                    0.0   \n",
       "\n",
       "   onehotencoder__Motivo_emprest_Personal  \\\n",
       "0                                     0.0   \n",
       "1                                     0.0   \n",
       "2                                     0.0   \n",
       "3                                     0.0   \n",
       "4                                     0.0   \n",
       "\n",
       "   onehotencoder__Motivo_emprest_Venture  onehotencoder__Pont_emprest_A  \\\n",
       "0                                    0.0                            0.0   \n",
       "1                                    0.0                            1.0   \n",
       "2                                    0.0                            0.0   \n",
       "3                                    0.0                            0.0   \n",
       "4                                    0.0                            0.0   \n",
       "\n",
       "   onehotencoder__Pont_emprest_B  onehotencoder__Pont_emprest_C  \\\n",
       "0                            1.0                            0.0   \n",
       "1                            0.0                            0.0   \n",
       "2                            0.0                            1.0   \n",
       "3                            0.0                            0.0   \n",
       "4                            1.0                            0.0   \n",
       "\n",
       "   onehotencoder__Pont_emprest_D  onehotencoder__Pont_emprest_E  \\\n",
       "0                            0.0                            0.0   \n",
       "1                            0.0                            0.0   \n",
       "2                            0.0                            0.0   \n",
       "3                            0.0                            0.0   \n",
       "4                            0.0                            0.0   \n",
       "\n",
       "   onehotencoder__Pont_emprest_F  onehotencoder__Pont_emprest_G  \n",
       "0                            0.0                            0.0  \n",
       "1                            0.0                            0.0  \n",
       "2                            0.0                            0.0  \n",
       "3                            1.0                            0.0  \n",
       "4                            0.0                            0.0  "
      ]
     },
     "execution_count": 28,
     "metadata": {},
     "output_type": "execute_result"
    }
   ],
   "source": [
    "# Reorganizando as variáveis.\n",
    "new_df = new_df[['remainder__Idade',\n",
    "       'remainder__Salario_anual', 'remainder__Tempo_trabalho',\n",
    "       'remainder__Total_emprest', 'remainder__Tx_juros',\n",
    "       'remainder__Renda_pecentual', 'remainder__Periodo',\n",
    "       'remainder__Inadimplente', 'onehotencoder__Situacao_prop_Mortgage',\n",
    "       'onehotencoder__Situacao_prop_Other',\n",
    "       'onehotencoder__Situacao_prop_Own', 'onehotencoder__Situacao_prop_Rent',\n",
    "       'onehotencoder__Motivo_emprest_Debtconsolidation',\n",
    "       'onehotencoder__Motivo_emprest_Education',\n",
    "       'onehotencoder__Motivo_emprest_Homeimprovement',\n",
    "       'onehotencoder__Motivo_emprest_Medical',\n",
    "       'onehotencoder__Motivo_emprest_Personal',\n",
    "       'onehotencoder__Motivo_emprest_Venture',\n",
    "       'onehotencoder__Pont_emprest_A', 'onehotencoder__Pont_emprest_B',\n",
    "       'onehotencoder__Pont_emprest_C', 'onehotencoder__Pont_emprest_D',\n",
    "       'onehotencoder__Pont_emprest_E', 'onehotencoder__Pont_emprest_F',\n",
    "       'onehotencoder__Pont_emprest_G']]\n",
    "new_df.head()"
   ]
  },
  {
   "cell_type": "markdown",
   "id": "2ec7d2b9",
   "metadata": {},
   "source": [
    "## Modelagem dos dados"
   ]
  },
  {
   "cell_type": "code",
   "execution_count": 29,
   "id": "c339d6cb",
   "metadata": {},
   "outputs": [],
   "source": [
    "# Realizando a divisão dos dados\n",
    "X = new_df\n",
    "y = df['Possib_inadimp']"
   ]
  },
  {
   "cell_type": "code",
   "execution_count": 30,
   "id": "bcb14272",
   "metadata": {},
   "outputs": [
    {
     "data": {
      "text/html": [
       "<div>\n",
       "<style scoped>\n",
       "    .dataframe tbody tr th:only-of-type {\n",
       "        vertical-align: middle;\n",
       "    }\n",
       "\n",
       "    .dataframe tbody tr th {\n",
       "        vertical-align: top;\n",
       "    }\n",
       "\n",
       "    .dataframe thead th {\n",
       "        text-align: right;\n",
       "    }\n",
       "</style>\n",
       "<table border=\"1\" class=\"dataframe\">\n",
       "  <thead>\n",
       "    <tr style=\"text-align: right;\">\n",
       "      <th></th>\n",
       "      <th>remainder__Idade</th>\n",
       "      <th>remainder__Salario_anual</th>\n",
       "      <th>remainder__Tempo_trabalho</th>\n",
       "      <th>remainder__Total_emprest</th>\n",
       "      <th>remainder__Tx_juros</th>\n",
       "      <th>remainder__Renda_pecentual</th>\n",
       "      <th>remainder__Periodo</th>\n",
       "      <th>remainder__Inadimplente</th>\n",
       "      <th>onehotencoder__Situacao_prop_Mortgage</th>\n",
       "      <th>onehotencoder__Situacao_prop_Other</th>\n",
       "      <th>onehotencoder__Situacao_prop_Own</th>\n",
       "      <th>onehotencoder__Situacao_prop_Rent</th>\n",
       "      <th>onehotencoder__Motivo_emprest_Debtconsolidation</th>\n",
       "      <th>onehotencoder__Motivo_emprest_Education</th>\n",
       "      <th>onehotencoder__Motivo_emprest_Homeimprovement</th>\n",
       "      <th>onehotencoder__Motivo_emprest_Medical</th>\n",
       "      <th>onehotencoder__Motivo_emprest_Personal</th>\n",
       "      <th>onehotencoder__Motivo_emprest_Venture</th>\n",
       "      <th>onehotencoder__Pont_emprest_A</th>\n",
       "      <th>onehotencoder__Pont_emprest_B</th>\n",
       "      <th>onehotencoder__Pont_emprest_C</th>\n",
       "      <th>onehotencoder__Pont_emprest_D</th>\n",
       "      <th>onehotencoder__Pont_emprest_E</th>\n",
       "      <th>onehotencoder__Pont_emprest_F</th>\n",
       "      <th>onehotencoder__Pont_emprest_G</th>\n",
       "    </tr>\n",
       "  </thead>\n",
       "  <tbody>\n",
       "    <tr>\n",
       "      <th>0</th>\n",
       "      <td>0.694316</td>\n",
       "      <td>-0.823326</td>\n",
       "      <td>-0.190760</td>\n",
       "      <td>-0.441258</td>\n",
       "      <td>-0.002528</td>\n",
       "      <td>1.220195</td>\n",
       "      <td>0.540705</td>\n",
       "      <td>-0.462523</td>\n",
       "      <td>-0.838149</td>\n",
       "      <td>-0.056929</td>\n",
       "      <td>-0.293930</td>\n",
       "      <td>0.990804</td>\n",
       "      <td>2.288851</td>\n",
       "      <td>-0.496582</td>\n",
       "      <td>-0.353001</td>\n",
       "      <td>-0.478843</td>\n",
       "      <td>-0.451323</td>\n",
       "      <td>-0.461127</td>\n",
       "      <td>-0.703619</td>\n",
       "      <td>1.455924</td>\n",
       "      <td>-0.497196</td>\n",
       "      <td>-0.353812</td>\n",
       "      <td>-0.174521</td>\n",
       "      <td>-0.086147</td>\n",
       "      <td>-0.044</td>\n",
       "    </tr>\n",
       "    <tr>\n",
       "      <th>1</th>\n",
       "      <td>1.017661</td>\n",
       "      <td>2.982747</td>\n",
       "      <td>-1.198072</td>\n",
       "      <td>0.541662</td>\n",
       "      <td>-0.818849</td>\n",
       "      <td>-1.033750</td>\n",
       "      <td>0.294137</td>\n",
       "      <td>-0.462523</td>\n",
       "      <td>1.193106</td>\n",
       "      <td>-0.056929</td>\n",
       "      <td>-0.293930</td>\n",
       "      <td>-1.009282</td>\n",
       "      <td>-0.436900</td>\n",
       "      <td>-0.496582</td>\n",
       "      <td>-0.353001</td>\n",
       "      <td>2.088368</td>\n",
       "      <td>-0.451323</td>\n",
       "      <td>-0.461127</td>\n",
       "      <td>1.421223</td>\n",
       "      <td>-0.686849</td>\n",
       "      <td>-0.497196</td>\n",
       "      <td>-0.353812</td>\n",
       "      <td>-0.174521</td>\n",
       "      <td>-0.086147</td>\n",
       "      <td>-0.044</td>\n",
       "    </tr>\n",
       "    <tr>\n",
       "      <th>2</th>\n",
       "      <td>1.179334</td>\n",
       "      <td>-0.340233</td>\n",
       "      <td>0.312896</td>\n",
       "      <td>-0.853450</td>\n",
       "      <td>0.846315</td>\n",
       "      <td>-0.752007</td>\n",
       "      <td>0.294137</td>\n",
       "      <td>-0.462523</td>\n",
       "      <td>-0.838149</td>\n",
       "      <td>-0.056929</td>\n",
       "      <td>3.402174</td>\n",
       "      <td>-1.009282</td>\n",
       "      <td>-0.436900</td>\n",
       "      <td>-0.496582</td>\n",
       "      <td>2.832855</td>\n",
       "      <td>-0.478843</td>\n",
       "      <td>-0.451323</td>\n",
       "      <td>-0.461127</td>\n",
       "      <td>-0.703619</td>\n",
       "      <td>-0.686849</td>\n",
       "      <td>2.011278</td>\n",
       "      <td>-0.353812</td>\n",
       "      <td>-0.174521</td>\n",
       "      <td>-0.086147</td>\n",
       "      <td>-0.044</td>\n",
       "    </tr>\n",
       "    <tr>\n",
       "      <th>3</th>\n",
       "      <td>1.987697</td>\n",
       "      <td>-0.263843</td>\n",
       "      <td>-0.694416</td>\n",
       "      <td>0.858733</td>\n",
       "      <td>2.475704</td>\n",
       "      <td>1.126280</td>\n",
       "      <td>2.759818</td>\n",
       "      <td>2.162057</td>\n",
       "      <td>-0.838149</td>\n",
       "      <td>-0.056929</td>\n",
       "      <td>-0.293930</td>\n",
       "      <td>0.990804</td>\n",
       "      <td>-0.436900</td>\n",
       "      <td>2.013765</td>\n",
       "      <td>-0.353001</td>\n",
       "      <td>-0.478843</td>\n",
       "      <td>-0.451323</td>\n",
       "      <td>-0.461127</td>\n",
       "      <td>-0.703619</td>\n",
       "      <td>-0.686849</td>\n",
       "      <td>-0.497196</td>\n",
       "      <td>-0.353812</td>\n",
       "      <td>-0.174521</td>\n",
       "      <td>11.608010</td>\n",
       "      <td>-0.044</td>\n",
       "    </tr>\n",
       "    <tr>\n",
       "      <th>4</th>\n",
       "      <td>-0.922411</td>\n",
       "      <td>-0.798575</td>\n",
       "      <td>-0.442588</td>\n",
       "      <td>-0.568086</td>\n",
       "      <td>0.156833</td>\n",
       "      <td>0.750623</td>\n",
       "      <td>-0.445567</td>\n",
       "      <td>-0.462523</td>\n",
       "      <td>-0.838149</td>\n",
       "      <td>-0.056929</td>\n",
       "      <td>3.402174</td>\n",
       "      <td>-1.009282</td>\n",
       "      <td>-0.436900</td>\n",
       "      <td>2.013765</td>\n",
       "      <td>-0.353001</td>\n",
       "      <td>-0.478843</td>\n",
       "      <td>-0.451323</td>\n",
       "      <td>-0.461127</td>\n",
       "      <td>-0.703619</td>\n",
       "      <td>1.455924</td>\n",
       "      <td>-0.497196</td>\n",
       "      <td>-0.353812</td>\n",
       "      <td>-0.174521</td>\n",
       "      <td>-0.086147</td>\n",
       "      <td>-0.044</td>\n",
       "    </tr>\n",
       "    <tr>\n",
       "      <th>...</th>\n",
       "      <td>...</td>\n",
       "      <td>...</td>\n",
       "      <td>...</td>\n",
       "      <td>...</td>\n",
       "      <td>...</td>\n",
       "      <td>...</td>\n",
       "      <td>...</td>\n",
       "      <td>...</td>\n",
       "      <td>...</td>\n",
       "      <td>...</td>\n",
       "      <td>...</td>\n",
       "      <td>...</td>\n",
       "      <td>...</td>\n",
       "      <td>...</td>\n",
       "      <td>...</td>\n",
       "      <td>...</td>\n",
       "      <td>...</td>\n",
       "      <td>...</td>\n",
       "      <td>...</td>\n",
       "      <td>...</td>\n",
       "      <td>...</td>\n",
       "      <td>...</td>\n",
       "      <td>...</td>\n",
       "      <td>...</td>\n",
       "      <td>...</td>\n",
       "    </tr>\n",
       "    <tr>\n",
       "      <th>33117</th>\n",
       "      <td>-0.922411</td>\n",
       "      <td>-0.130083</td>\n",
       "      <td>-0.442588</td>\n",
       "      <td>-0.726622</td>\n",
       "      <td>0.033247</td>\n",
       "      <td>-0.845921</td>\n",
       "      <td>-0.692136</td>\n",
       "      <td>-0.462523</td>\n",
       "      <td>-0.838149</td>\n",
       "      <td>-0.056929</td>\n",
       "      <td>-0.293930</td>\n",
       "      <td>0.990804</td>\n",
       "      <td>-0.436900</td>\n",
       "      <td>2.013765</td>\n",
       "      <td>-0.353001</td>\n",
       "      <td>-0.478843</td>\n",
       "      <td>-0.451323</td>\n",
       "      <td>-0.461127</td>\n",
       "      <td>-0.703619</td>\n",
       "      <td>1.455924</td>\n",
       "      <td>-0.497196</td>\n",
       "      <td>-0.353812</td>\n",
       "      <td>-0.174521</td>\n",
       "      <td>-0.086147</td>\n",
       "      <td>-0.044</td>\n",
       "    </tr>\n",
       "    <tr>\n",
       "      <th>33118</th>\n",
       "      <td>0.047625</td>\n",
       "      <td>-0.569404</td>\n",
       "      <td>1.823863</td>\n",
       "      <td>-1.214118</td>\n",
       "      <td>1.373184</td>\n",
       "      <td>-1.127664</td>\n",
       "      <td>0.540705</td>\n",
       "      <td>2.162057</td>\n",
       "      <td>1.193106</td>\n",
       "      <td>-0.056929</td>\n",
       "      <td>-0.293930</td>\n",
       "      <td>-1.009282</td>\n",
       "      <td>-0.436900</td>\n",
       "      <td>-0.496582</td>\n",
       "      <td>-0.353001</td>\n",
       "      <td>2.088368</td>\n",
       "      <td>-0.451323</td>\n",
       "      <td>-0.461127</td>\n",
       "      <td>-0.703619</td>\n",
       "      <td>-0.686849</td>\n",
       "      <td>2.011278</td>\n",
       "      <td>-0.353812</td>\n",
       "      <td>-0.174521</td>\n",
       "      <td>-0.086147</td>\n",
       "      <td>-0.044</td>\n",
       "    </tr>\n",
       "    <tr>\n",
       "      <th>33119</th>\n",
       "      <td>0.370970</td>\n",
       "      <td>0.557353</td>\n",
       "      <td>0.312896</td>\n",
       "      <td>1.809946</td>\n",
       "      <td>0.319447</td>\n",
       "      <td>0.468880</td>\n",
       "      <td>-0.198999</td>\n",
       "      <td>-0.462523</td>\n",
       "      <td>1.193106</td>\n",
       "      <td>-0.056929</td>\n",
       "      <td>-0.293930</td>\n",
       "      <td>-1.009282</td>\n",
       "      <td>-0.436900</td>\n",
       "      <td>-0.496582</td>\n",
       "      <td>2.832855</td>\n",
       "      <td>-0.478843</td>\n",
       "      <td>-0.451323</td>\n",
       "      <td>-0.461127</td>\n",
       "      <td>-0.703619</td>\n",
       "      <td>1.455924</td>\n",
       "      <td>-0.497196</td>\n",
       "      <td>-0.353812</td>\n",
       "      <td>-0.174521</td>\n",
       "      <td>-0.086147</td>\n",
       "      <td>-0.044</td>\n",
       "    </tr>\n",
       "    <tr>\n",
       "      <th>33120</th>\n",
       "      <td>-0.114048</td>\n",
       "      <td>-0.386067</td>\n",
       "      <td>0.312896</td>\n",
       "      <td>0.914220</td>\n",
       "      <td>-0.685506</td>\n",
       "      <td>1.595852</td>\n",
       "      <td>1.033841</td>\n",
       "      <td>-0.462523</td>\n",
       "      <td>1.193106</td>\n",
       "      <td>-0.056929</td>\n",
       "      <td>-0.293930</td>\n",
       "      <td>-1.009282</td>\n",
       "      <td>-0.436900</td>\n",
       "      <td>-0.496582</td>\n",
       "      <td>-0.353001</td>\n",
       "      <td>-0.478843</td>\n",
       "      <td>-0.451323</td>\n",
       "      <td>2.168599</td>\n",
       "      <td>1.421223</td>\n",
       "      <td>-0.686849</td>\n",
       "      <td>-0.497196</td>\n",
       "      <td>-0.353812</td>\n",
       "      <td>-0.174521</td>\n",
       "      <td>-0.086147</td>\n",
       "      <td>-0.044</td>\n",
       "    </tr>\n",
       "    <tr>\n",
       "      <th>33121</th>\n",
       "      <td>0.209298</td>\n",
       "      <td>0.748329</td>\n",
       "      <td>-0.442588</td>\n",
       "      <td>1.651410</td>\n",
       "      <td>-1.332708</td>\n",
       "      <td>0.187137</td>\n",
       "      <td>0.540705</td>\n",
       "      <td>-0.462523</td>\n",
       "      <td>1.193106</td>\n",
       "      <td>-0.056929</td>\n",
       "      <td>-0.293930</td>\n",
       "      <td>-1.009282</td>\n",
       "      <td>-0.436900</td>\n",
       "      <td>-0.496582</td>\n",
       "      <td>-0.353001</td>\n",
       "      <td>-0.478843</td>\n",
       "      <td>-0.451323</td>\n",
       "      <td>2.168599</td>\n",
       "      <td>1.421223</td>\n",
       "      <td>-0.686849</td>\n",
       "      <td>-0.497196</td>\n",
       "      <td>-0.353812</td>\n",
       "      <td>-0.174521</td>\n",
       "      <td>-0.086147</td>\n",
       "      <td>-0.044</td>\n",
       "    </tr>\n",
       "  </tbody>\n",
       "</table>\n",
       "<p>33122 rows × 25 columns</p>\n",
       "</div>"
      ],
      "text/plain": [
       "       remainder__Idade  remainder__Salario_anual  remainder__Tempo_trabalho  \\\n",
       "0              0.694316                 -0.823326                  -0.190760   \n",
       "1              1.017661                  2.982747                  -1.198072   \n",
       "2              1.179334                 -0.340233                   0.312896   \n",
       "3              1.987697                 -0.263843                  -0.694416   \n",
       "4             -0.922411                 -0.798575                  -0.442588   \n",
       "...                 ...                       ...                        ...   \n",
       "33117         -0.922411                 -0.130083                  -0.442588   \n",
       "33118          0.047625                 -0.569404                   1.823863   \n",
       "33119          0.370970                  0.557353                   0.312896   \n",
       "33120         -0.114048                 -0.386067                   0.312896   \n",
       "33121          0.209298                  0.748329                  -0.442588   \n",
       "\n",
       "       remainder__Total_emprest  remainder__Tx_juros  \\\n",
       "0                     -0.441258            -0.002528   \n",
       "1                      0.541662            -0.818849   \n",
       "2                     -0.853450             0.846315   \n",
       "3                      0.858733             2.475704   \n",
       "4                     -0.568086             0.156833   \n",
       "...                         ...                  ...   \n",
       "33117                 -0.726622             0.033247   \n",
       "33118                 -1.214118             1.373184   \n",
       "33119                  1.809946             0.319447   \n",
       "33120                  0.914220            -0.685506   \n",
       "33121                  1.651410            -1.332708   \n",
       "\n",
       "       remainder__Renda_pecentual  remainder__Periodo  \\\n",
       "0                        1.220195            0.540705   \n",
       "1                       -1.033750            0.294137   \n",
       "2                       -0.752007            0.294137   \n",
       "3                        1.126280            2.759818   \n",
       "4                        0.750623           -0.445567   \n",
       "...                           ...                 ...   \n",
       "33117                   -0.845921           -0.692136   \n",
       "33118                   -1.127664            0.540705   \n",
       "33119                    0.468880           -0.198999   \n",
       "33120                    1.595852            1.033841   \n",
       "33121                    0.187137            0.540705   \n",
       "\n",
       "       remainder__Inadimplente  onehotencoder__Situacao_prop_Mortgage  \\\n",
       "0                    -0.462523                              -0.838149   \n",
       "1                    -0.462523                               1.193106   \n",
       "2                    -0.462523                              -0.838149   \n",
       "3                     2.162057                              -0.838149   \n",
       "4                    -0.462523                              -0.838149   \n",
       "...                        ...                                    ...   \n",
       "33117                -0.462523                              -0.838149   \n",
       "33118                 2.162057                               1.193106   \n",
       "33119                -0.462523                               1.193106   \n",
       "33120                -0.462523                               1.193106   \n",
       "33121                -0.462523                               1.193106   \n",
       "\n",
       "       onehotencoder__Situacao_prop_Other  onehotencoder__Situacao_prop_Own  \\\n",
       "0                               -0.056929                         -0.293930   \n",
       "1                               -0.056929                         -0.293930   \n",
       "2                               -0.056929                          3.402174   \n",
       "3                               -0.056929                         -0.293930   \n",
       "4                               -0.056929                          3.402174   \n",
       "...                                   ...                               ...   \n",
       "33117                           -0.056929                         -0.293930   \n",
       "33118                           -0.056929                         -0.293930   \n",
       "33119                           -0.056929                         -0.293930   \n",
       "33120                           -0.056929                         -0.293930   \n",
       "33121                           -0.056929                         -0.293930   \n",
       "\n",
       "       onehotencoder__Situacao_prop_Rent  \\\n",
       "0                               0.990804   \n",
       "1                              -1.009282   \n",
       "2                              -1.009282   \n",
       "3                               0.990804   \n",
       "4                              -1.009282   \n",
       "...                                  ...   \n",
       "33117                           0.990804   \n",
       "33118                          -1.009282   \n",
       "33119                          -1.009282   \n",
       "33120                          -1.009282   \n",
       "33121                          -1.009282   \n",
       "\n",
       "       onehotencoder__Motivo_emprest_Debtconsolidation  \\\n",
       "0                                             2.288851   \n",
       "1                                            -0.436900   \n",
       "2                                            -0.436900   \n",
       "3                                            -0.436900   \n",
       "4                                            -0.436900   \n",
       "...                                                ...   \n",
       "33117                                        -0.436900   \n",
       "33118                                        -0.436900   \n",
       "33119                                        -0.436900   \n",
       "33120                                        -0.436900   \n",
       "33121                                        -0.436900   \n",
       "\n",
       "       onehotencoder__Motivo_emprest_Education  \\\n",
       "0                                    -0.496582   \n",
       "1                                    -0.496582   \n",
       "2                                    -0.496582   \n",
       "3                                     2.013765   \n",
       "4                                     2.013765   \n",
       "...                                        ...   \n",
       "33117                                 2.013765   \n",
       "33118                                -0.496582   \n",
       "33119                                -0.496582   \n",
       "33120                                -0.496582   \n",
       "33121                                -0.496582   \n",
       "\n",
       "       onehotencoder__Motivo_emprest_Homeimprovement  \\\n",
       "0                                          -0.353001   \n",
       "1                                          -0.353001   \n",
       "2                                           2.832855   \n",
       "3                                          -0.353001   \n",
       "4                                          -0.353001   \n",
       "...                                              ...   \n",
       "33117                                      -0.353001   \n",
       "33118                                      -0.353001   \n",
       "33119                                       2.832855   \n",
       "33120                                      -0.353001   \n",
       "33121                                      -0.353001   \n",
       "\n",
       "       onehotencoder__Motivo_emprest_Medical  \\\n",
       "0                                  -0.478843   \n",
       "1                                   2.088368   \n",
       "2                                  -0.478843   \n",
       "3                                  -0.478843   \n",
       "4                                  -0.478843   \n",
       "...                                      ...   \n",
       "33117                              -0.478843   \n",
       "33118                               2.088368   \n",
       "33119                              -0.478843   \n",
       "33120                              -0.478843   \n",
       "33121                              -0.478843   \n",
       "\n",
       "       onehotencoder__Motivo_emprest_Personal  \\\n",
       "0                                   -0.451323   \n",
       "1                                   -0.451323   \n",
       "2                                   -0.451323   \n",
       "3                                   -0.451323   \n",
       "4                                   -0.451323   \n",
       "...                                       ...   \n",
       "33117                               -0.451323   \n",
       "33118                               -0.451323   \n",
       "33119                               -0.451323   \n",
       "33120                               -0.451323   \n",
       "33121                               -0.451323   \n",
       "\n",
       "       onehotencoder__Motivo_emprest_Venture  onehotencoder__Pont_emprest_A  \\\n",
       "0                                  -0.461127                      -0.703619   \n",
       "1                                  -0.461127                       1.421223   \n",
       "2                                  -0.461127                      -0.703619   \n",
       "3                                  -0.461127                      -0.703619   \n",
       "4                                  -0.461127                      -0.703619   \n",
       "...                                      ...                            ...   \n",
       "33117                              -0.461127                      -0.703619   \n",
       "33118                              -0.461127                      -0.703619   \n",
       "33119                              -0.461127                      -0.703619   \n",
       "33120                               2.168599                       1.421223   \n",
       "33121                               2.168599                       1.421223   \n",
       "\n",
       "       onehotencoder__Pont_emprest_B  onehotencoder__Pont_emprest_C  \\\n",
       "0                           1.455924                      -0.497196   \n",
       "1                          -0.686849                      -0.497196   \n",
       "2                          -0.686849                       2.011278   \n",
       "3                          -0.686849                      -0.497196   \n",
       "4                           1.455924                      -0.497196   \n",
       "...                              ...                            ...   \n",
       "33117                       1.455924                      -0.497196   \n",
       "33118                      -0.686849                       2.011278   \n",
       "33119                       1.455924                      -0.497196   \n",
       "33120                      -0.686849                      -0.497196   \n",
       "33121                      -0.686849                      -0.497196   \n",
       "\n",
       "       onehotencoder__Pont_emprest_D  onehotencoder__Pont_emprest_E  \\\n",
       "0                          -0.353812                      -0.174521   \n",
       "1                          -0.353812                      -0.174521   \n",
       "2                          -0.353812                      -0.174521   \n",
       "3                          -0.353812                      -0.174521   \n",
       "4                          -0.353812                      -0.174521   \n",
       "...                              ...                            ...   \n",
       "33117                      -0.353812                      -0.174521   \n",
       "33118                      -0.353812                      -0.174521   \n",
       "33119                      -0.353812                      -0.174521   \n",
       "33120                      -0.353812                      -0.174521   \n",
       "33121                      -0.353812                      -0.174521   \n",
       "\n",
       "       onehotencoder__Pont_emprest_F  onehotencoder__Pont_emprest_G  \n",
       "0                          -0.086147                         -0.044  \n",
       "1                          -0.086147                         -0.044  \n",
       "2                          -0.086147                         -0.044  \n",
       "3                          11.608010                         -0.044  \n",
       "4                          -0.086147                         -0.044  \n",
       "...                              ...                            ...  \n",
       "33117                      -0.086147                         -0.044  \n",
       "33118                      -0.086147                         -0.044  \n",
       "33119                      -0.086147                         -0.044  \n",
       "33120                      -0.086147                         -0.044  \n",
       "33121                      -0.086147                         -0.044  \n",
       "\n",
       "[33122 rows x 25 columns]"
      ]
     },
     "execution_count": 30,
     "metadata": {},
     "output_type": "execute_result"
    }
   ],
   "source": [
    "#Normalização dos dados.\n",
    "\n",
    "from sklearn.preprocessing import StandardScaler\n",
    "\n",
    "scaler = StandardScaler()\n",
    "X1 = scaler.fit_transform(X)\n",
    "X1 = pd.DataFrame(X1, columns = X.columns)\n",
    "X1"
   ]
  },
  {
   "cell_type": "code",
   "execution_count": 31,
   "id": "d934cfe6",
   "metadata": {},
   "outputs": [
    {
     "name": "stdout",
     "output_type": "stream",
     "text": [
      "O dataset contêm um total de 33122 linhas\n",
      "Onde 25902 linhas são de clientes que foram classificados como possíveis não inadimplentes e corresponde a 78.20% dos dados.\n",
      "Enquanto 7220 linhas são clientes que foram classificados como possíveis inadimplentes, correspondendo a 21.80% dos dados.\n"
     ]
    }
   ],
   "source": [
    "# Observação da distribuição dos dados\n",
    "\n",
    "total = df['Possib_inadimp'].count()\n",
    "possiv_inadimplentes = df.query('Possib_inadimp == 1')['Possib_inadimp'].count()\n",
    "possiv_n_inadimplente = df.query('Possib_inadimp==0')['Possib_inadimp'].count()\n",
    "\n",
    "print('O dataset contêm um total de %d linhas'% total)\n",
    "print('Onde %d linhas são de clientes que foram classificados como possíveis não inadimplentes e corresponde a %.2f%% dos dados.'% (possiv_n_inadimplente, (possiv_n_inadimplente/total)*100))\n",
    "print('Enquanto %d linhas são clientes que foram classificados como possíveis inadimplentes, correspondendo a %.2f%% dos dados.'% (possiv_inadimplentes,(possiv_inadimplentes/total)*100))"
   ]
  },
  {
   "cell_type": "markdown",
   "id": "c8d652c5",
   "metadata": {},
   "source": [
    "> Existem um claro desbalanceamento entre as classes, esse desbalanceamento será tratado com uma técnica de **Oversampling** na qual irá equilibrá-las."
   ]
  },
  {
   "cell_type": "code",
   "execution_count": 32,
   "id": "51b908a3",
   "metadata": {},
   "outputs": [
    {
     "data": {
      "text/plain": [
       "0    25902\n",
       "1    25902\n",
       "Name: Possib_inadimp, dtype: int64"
      ]
     },
     "execution_count": 32,
     "metadata": {},
     "output_type": "execute_result"
    }
   ],
   "source": [
    "# Realizando o import do Smote\n",
    "from imblearn.over_sampling import SMOTE\n",
    "\n",
    "# Instanciando um objeto Smote()\n",
    "smt = SMOTE()\n",
    "# Aplicando o Resample das classes\n",
    "X1,y = smt.fit_resample(X1,y)\n",
    "\n",
    "# Visualizando a nova distribuição das classes\n",
    "y.value_counts()"
   ]
  },
  {
   "cell_type": "code",
   "execution_count": 33,
   "id": "10153ae0",
   "metadata": {},
   "outputs": [],
   "source": [
    "from sklearn.model_selection import train_test_split\n",
    "#Definindo uma SEED\n",
    "SEED = 1457\n",
    "np.random.seed(SEED)\n",
    "\n",
    "# Separando os dados entre treino e teste\n",
    "X_train, X_test, y_train, y_test = train_test_split(X1, y, test_size = 0.3, random_state = SEED, stratify = y)"
   ]
  },
  {
   "cell_type": "code",
   "execution_count": 34,
   "id": "a0ca1b9d",
   "metadata": {},
   "outputs": [],
   "source": [
    "# Importando os modelos \n",
    "from sklearn.dummy import DummyClassifier\n",
    "from sklearn.tree import DecisionTreeClassifier\n",
    "from sklearn.ensemble import RandomForestClassifier\n",
    "from sklearn.ensemble import GradientBoostingClassifier\n",
    "\n",
    "\n",
    "# Importando as métricas\n",
    "from sklearn.metrics import accuracy_score\n",
    "from sklearn.metrics import precision_score\n",
    "from sklearn.metrics import f1_score\n",
    "from sklearn.metrics import recall_score\n",
    "from sklearn.metrics import confusion_matrix\n",
    "from sklearn.metrics import ConfusionMatrixDisplay\n",
    "from sklearn.metrics import roc_auc_score\n",
    "from sklearn.metrics import roc_curve"
   ]
  },
  {
   "cell_type": "code",
   "execution_count": 35,
   "id": "1b3a4004",
   "metadata": {},
   "outputs": [],
   "source": [
    "# Definindo as funções para rodar o modelo e gerar as métricas.\n",
    "\n",
    "def modelo(classificador):\n",
    "    modelo = classificador\n",
    "    modelo.fit(X_train, y_train)\n",
    "    print('Score de Treino: %.3f'%modelo.score(X_train, y_train))\n",
    "    print('O Score de Teste: %.3f'%modelo.score(X_test, y_test))\n",
    "    return modelo\n",
    "\n",
    "def predicao(modelo):\n",
    "    y_pred = modelo.predict(X_test)\n",
    "    return y_pred\n",
    "\n",
    "def metricas(y_test, y_pred):\n",
    "    acuracia = accuracy_score(y_test, y_pred)*100\n",
    "    precisao = precision_score(y_test, y_pred)*100\n",
    "    recall = recall_score(y_test, y_pred)*100\n",
    "    f1 = f1_score(y_test, y_pred)*100\n",
    "    \n",
    "    print('A acurácia do modelo foi de %.2f%%' %acuracia)\n",
    "    print('A precisão do modelo foi de %.2f%%'%precisao)\n",
    "    print('A taxa de recall do modelo foi de %.2f%%'% recall)\n",
    "    print('A taxa de balanceamento do modelo foi de %.2f%%'%f1)\n",
    "    \n",
    "    mc = confusion_matrix(y_test, y_pred)\n",
    "    display = ConfusionMatrixDisplay(confusion_matrix = mc)\n",
    "    display.plot()\n",
    "    "
   ]
  },
  {
   "cell_type": "code",
   "execution_count": 36,
   "id": "be5fd774",
   "metadata": {},
   "outputs": [],
   "source": [
    "# Função de plotagem da curva roc\n",
    "def auc_roc(modelo, X_test, y_test):\n",
    "    prob = modelo.predict_proba(X_test)[:,1]   # Calculo da probabilidade\n",
    "    tfp, tvp, limite = roc_curve(y_test, prob) # Calculo das tx de verdadeiros positivos e falsos positivos\n",
    "    auc = roc_auc_score(y_test, prob)          # Valor da AUC\n",
    "\n",
    "# Plotando a curva\n",
    "    plt.subplots(1, figsize = (15,10))\n",
    "    plt.title('Curva ROC', fontsize = 20)\n",
    "    plt.plot(tfp, tvp, label = 'LR, auc =%s'%(auc))\n",
    "    plt.plot([0,1],[0,1], color = 'red', lw= 2, linestyle = '--')\n",
    "    plt.plot([0,0],[1,0], color ='green', lw= 2, linestyle = '--'),plt.plot([1,1], color ='green', lw= 2, linestyle = '--') \n",
    "    plt.legend(loc = 4)\n",
    "    plt.xlabel('Especificidade')\n",
    "    plt.ylabel('Sensibilidade')\n",
    "    plt.show()"
   ]
  },
  {
   "cell_type": "code",
   "execution_count": 37,
   "id": "108c055c",
   "metadata": {},
   "outputs": [
    {
     "name": "stdout",
     "output_type": "stream",
     "text": [
      "Score de Treino: 0.500\n",
      "O Score de Teste: 0.500\n",
      "A acurácia do modelo foi de 50.00%\n",
      "A precisão do modelo foi de 0.00%\n",
      "A taxa de recall do modelo foi de 0.00%\n",
      "A taxa de balanceamento do modelo foi de 0.00%\n"
     ]
    },
    {
     "name": "stderr",
     "output_type": "stream",
     "text": [
      "C:\\Users\\Mateus Sampaio\\anaconda3\\lib\\site-packages\\sklearn\\metrics\\_classification.py:1334: UndefinedMetricWarning: Precision is ill-defined and being set to 0.0 due to no predicted samples. Use `zero_division` parameter to control this behavior.\n",
      "  _warn_prf(average, modifier, msg_start, len(result))\n"
     ]
    },
    {
     "data": {
      "image/png": "[encoded data removed]",
      "text/plain": [
       "<Figure size 432x288 with 2 Axes>"
      ]
     },
     "metadata": {
      "needs_background": "light"
     },
     "output_type": "display_data"
    }
   ],
   "source": [
    "# Rodando o modelo Dummy\n",
    "dummy = modelo(DummyClassifier(random_state = SEED))\n",
    "dummy_pred = predicao(dummy)\n",
    "metricas(y_test, dummy_pred)"
   ]
  },
  {
   "cell_type": "code",
   "execution_count": 38,
   "id": "f263b5c1",
   "metadata": {},
   "outputs": [
    {
     "name": "stdout",
     "output_type": "stream",
     "text": [
      "Score de Treino: 1.000\n",
      "O Score de Teste: 0.887\n",
      "A acurácia do modelo foi de 88.69%\n",
      "A precisão do modelo foi de 88.35%\n",
      "A taxa de recall do modelo foi de 89.13%\n",
      "A taxa de balanceamento do modelo foi de 88.74%\n"
     ]
    },
    {
     "data": {
      "image/png": "[encoded data removed]",
      "text/plain": [
       "<Figure size 432x288 with 2 Axes>"
      ]
     },
     "metadata": {
      "needs_background": "light"
     },
     "output_type": "display_data"
    }
   ],
   "source": [
    "# Rodando o modelo DecisionTree\n",
    "dct = modelo(DecisionTreeClassifier(random_state= SEED))\n",
    "dct_pred = predicao(dct)\n",
    "metricas(y_test, dct_pred)"
   ]
  },
  {
   "cell_type": "code",
   "execution_count": 39,
   "id": "baae09e5",
   "metadata": {},
   "outputs": [
    {
     "data": {
      "image/png": "[encoded data removed]",
      "text/plain": [
       "<Figure size 1080x720 with 1 Axes>"
      ]
     },
     "metadata": {
      "needs_background": "light"
     },
     "output_type": "display_data"
    }
   ],
   "source": [
    "#Plotando a curva roc do DecisionTree\n",
    "auc_roc(dct, X_test, y_test)"
   ]
  },
  {
   "cell_type": "code",
   "execution_count": 40,
   "id": "3de8488c",
   "metadata": {},
   "outputs": [
    {
     "name": "stdout",
     "output_type": "stream",
     "text": [
      "Score de Treino: 0.834\n",
      "O Score de Teste: 0.835\n",
      "A acurácia do modelo foi de 83.46%\n",
      "A precisão do modelo foi de 90.59%\n",
      "A taxa de recall do modelo foi de 74.68%\n",
      "A taxa de balanceamento do modelo foi de 81.86%\n"
     ]
    },
    {
     "data": {
      "image/png": "[encoded data removed]",
      "text/plain": [
       "<Figure size 432x288 with 2 Axes>"
      ]
     },
     "metadata": {
      "needs_background": "light"
     },
     "output_type": "display_data"
    }
   ],
   "source": [
    "#Rodando o modelo RandomForest\n",
    "rf = modelo(RandomForestClassifier(max_depth= 5, random_state= SEED))\n",
    "rf_pred = predicao(rf)\n",
    "metricas(y_test, rf_pred)"
   ]
  },
  {
   "cell_type": "code",
   "execution_count": 41,
   "id": "4185ae79",
   "metadata": {},
   "outputs": [
    {
     "data": {
      "image/png": "[encoded data removed]",
      "text/plain": [
       "<Figure size 1080x720 with 1 Axes>"
      ]
     },
     "metadata": {
      "needs_background": "light"
     },
     "output_type": "display_data"
    }
   ],
   "source": [
    "# Plotando a curva para o RandomForest\n",
    "auc_roc(rf, X_test, y_test)"
   ]
  },
  {
   "cell_type": "code",
   "execution_count": 42,
   "id": "25b8bca5",
   "metadata": {},
   "outputs": [
    {
     "name": "stdout",
     "output_type": "stream",
     "text": [
      "Score de Treino: 0.939\n",
      "O Score de Teste: 0.933\n",
      "A acurácia do modelo foi de 93.25%\n",
      "A precisão do modelo foi de 97.81%\n",
      "A taxa de recall do modelo foi de 88.48%\n",
      "A taxa de balanceamento do modelo foi de 92.91%\n"
     ]
    },
    {
     "data": {
      "image/png": "[encoded data removed]",
      "text/plain": [
       "<Figure size 432x288 with 2 Axes>"
      ]
     },
     "metadata": {
      "needs_background": "light"
     },
     "output_type": "display_data"
    }
   ],
   "source": [
    "# Rodando o GradientBoosting\n",
    "gb = modelo(GradientBoostingClassifier(max_depth= 5, random_state= SEED))\n",
    "gb_pred = predicao(gb)\n",
    "metricas(y_test, gb_pred)"
   ]
  },
  {
   "cell_type": "code",
   "execution_count": 43,
   "id": "862093f9",
   "metadata": {},
   "outputs": [
    {
     "data": {
      "image/png": "[encoded data removed]",
      "text/plain": [
       "<Figure size 1080x720 with 1 Axes>"
      ]
     },
     "metadata": {
      "needs_background": "light"
     },
     "output_type": "display_data"
    }
   ],
   "source": [
    "#Plotando a curva para o GrandientBoosting\n",
    "auc_roc(gb, X_test, y_test)"
   ]
  },
  {
   "cell_type": "markdown",
   "id": "49b6be4a",
   "metadata": {},
   "source": [
    "O problema enfrentado pelo banco está relacionado ao aumento da inadimplência, logo seria primordial que o modelo selecionado seja capaz de diferenciar, com a maior eficácia possível, qual é o provável cliente inadimplente e o não inadimplente.\n",
    "\n",
    "Neste contexto, acredito que seja interessante  combinar os resultados obtidos com a matrix de confusão, observando os modelos que apresentaram uma melhor classificação dos verdadeiros positivos e falsos negativos, e o valor da área sob a curva, porque quanto melhor o modelo for na diferenciação entre as classes, maior será o valor da **AUC**.\n",
    "\n",
    "Dentre os modelos testados, o modelo **RandomForestClassifier** e o **GradientBoostingClassifier** apresentaram o melhor desempenho e por isso seguirão para a etapa de otimização. Vale destacar que buscarei otimizar o valor do **auc_roc** em ambos os modelos antes de eleger o melhor."
   ]
  },
  {
   "cell_type": "markdown",
   "id": "0ffccaf5",
   "metadata": {},
   "source": [
    "## Otimização dos modelos"
   ]
  },
  {
   "cell_type": "code",
   "execution_count": 44,
   "id": "af26d3e6",
   "metadata": {},
   "outputs": [],
   "source": [
    "# Importando as ferramentas de otimização e validação\n",
    "from sklearn.model_selection import StratifiedKFold\n",
    "from sklearn.model_selection import cross_val_score\n",
    "from skopt import gp_minimize"
   ]
  },
  {
   "cell_type": "code",
   "execution_count": 45,
   "id": "9ed40bdc",
   "metadata": {},
   "outputs": [
    {
     "data": {
      "text/plain": [
       "[400, 8, 4, 2, 220]"
      ]
     },
     "execution_count": 45,
     "metadata": {},
     "output_type": "execute_result"
    }
   ],
   "source": [
    "def roda_modelo(parametro):\n",
    "    n_estimators = parametro[0]\n",
    "    max_depth = parametro[1]\n",
    "    min_samples_split = parametro[2]\n",
    "    min_samples_leaf = parametro[3]\n",
    "    max_leaf_nodes = parametro[4]\n",
    "    \n",
    "   \n",
    "    best_rf = RandomForestClassifier(n_estimators = n_estimators, max_depth= max_depth,\n",
    "                                     min_samples_split = min_samples_split, min_samples_leaf = min_samples_leaf,\n",
    "                                     max_leaf_nodes = max_leaf_nodes, random_state = SEED)\n",
    "    \n",
    "    best_rf.fit(X_train,y_train)\n",
    "      \n",
    "    prob = best_rf.predict_proba(X_test)[:,1]\n",
    "    \n",
    "    return -roc_auc_score(y_test, prob)\n",
    "\n",
    "parametro = [(150, 400), # n_estimators\n",
    "            (3, 8, 'log-uniform'), # max_depth\n",
    "            (4, 120), # min_samples_split\n",
    "            (2, 120), # min_samples_leaf\n",
    "            (8, 256)] # max_leaf_nodes\n",
    "\n",
    "\n",
    "resultado_rf = gp_minimize(roda_modelo, parametro, random_state = SEED,\n",
    "                           n_calls = 50, n_random_starts= 23)\n",
    "resultado_rf.x"
   ]
  },
  {
   "cell_type": "code",
   "execution_count": 46,
   "id": "5da075ce",
   "metadata": {},
   "outputs": [
    {
     "name": "stdout",
     "output_type": "stream",
     "text": [
      "Score de Treino do modelo rf_otm: 0.857\n",
      "O Score de Teste do modelo rf_otm: 0.850\n"
     ]
    },
    {
     "data": {
      "image/png": "[encoded data removed]",
      "text/plain": [
       "<Figure size 1080x720 with 1 Axes>"
      ]
     },
     "metadata": {
      "needs_background": "light"
     },
     "output_type": "display_data"
    }
   ],
   "source": [
    "# Treinando o modelo RandomForestClassifier com os melhores parâmetros\n",
    "\n",
    "rf_otm = RandomForestClassifier(n_estimators = 400, max_depth= 8,\n",
    "                                min_samples_split = 4, min_samples_leaf = 2, max_leaf_nodes = 220, random_state = SEED)\n",
    "\n",
    "rf_otm.fit(X_train, y_train)\n",
    "\n",
    "print('Score de Treino do modelo rf_otm: %.3f'%rf_otm.score(X_train, y_train))\n",
    "print('O Score de Teste do modelo rf_otm: %.3f'%rf_otm.score(X_test, y_test))\n",
    "\n",
    "auc_roc(rf_otm, X_test, y_test)"
   ]
  },
  {
   "cell_type": "code",
   "execution_count": 47,
   "id": "63b03a9d",
   "metadata": {},
   "outputs": [
    {
     "data": {
      "text/plain": [
       "[0.1, 1.0, 0.05, 0.02, 8]"
      ]
     },
     "execution_count": 47,
     "metadata": {},
     "output_type": "execute_result"
    }
   ],
   "source": [
    "def roda_modelo2(parametros):\n",
    "    learning_rate = parametros[0]\n",
    "    subsample = parametros[1]\n",
    "    min_samples_split = parametros[2]\n",
    "    min_samples_leaf = parametros[3]\n",
    "    max_leaf_nodes = parametros[4]\n",
    "   \n",
    "#Instaciando o modelo GradientBoostingClassifier\n",
    "    best_gb = GradientBoostingClassifier(learning_rate= learning_rate, n_estimators= 500,\n",
    "                                        subsample= subsample, min_samples_split= min_samples_split,\n",
    "                                        min_samples_leaf = min_samples_leaf, max_leaf_nodes = max_leaf_nodes, \n",
    "                                        random_state = SEED)\n",
    "    best_gb.fit(X_train, y_train)\n",
    "    \n",
    "    prob = best_gb.predict_proba(X_test)[:,1]\n",
    "    \n",
    "    return -roc_auc_score(y_test, prob)\n",
    "\n",
    "#Definindo os parametros\n",
    "\n",
    "parametros = [(1e-5, 1e-1, 'log-uniform'), #learning_rate\n",
    "             (0.05, 1.0), # subsample\n",
    "             (0.05, 0.3), # min_samples_split\n",
    "             (0.02, 0.2), # min_samples_leaf\n",
    "             (8, 256)]    # max_leaf_nodes\n",
    "\n",
    "#Rodando o otimizador\n",
    "resultado_gb = gp_minimize(roda_modelo2, parametros, random_state= SEED, n_calls = 60,\n",
    "                           n_random_starts = 30)    \n",
    "\n",
    "resultado_gb.x"
   ]
  },
  {
   "cell_type": "code",
   "execution_count": 48,
   "id": "0af44e08",
   "metadata": {},
   "outputs": [
    {
     "name": "stdout",
     "output_type": "stream",
     "text": [
      "A acurácia de Treino do modelo gb_otm: 0.943\n",
      "A acurácia de Teste do modelo gb_otm: 0.940\n"
     ]
    },
    {
     "data": {
      "image/png": "[encoded data removed]",
      "text/plain": [
       "<Figure size 1080x720 with 1 Axes>"
      ]
     },
     "metadata": {
      "needs_background": "light"
     },
     "output_type": "display_data"
    }
   ],
   "source": [
    "#Treinando o modelo GradientBoostingClassifier\n",
    "\n",
    "gb_otm = GradientBoostingClassifier(learning_rate= 0.1, n_estimators= 500,\n",
    "                                    subsample= 1.0, min_samples_split= 0.05,\n",
    "                                    min_samples_leaf = 0.02, max_leaf_nodes = 8, random_state = SEED)\n",
    "\n",
    "gb_otm.fit(X_train, y_train)\n",
    "\n",
    "print('A acurácia de Treino do modelo gb_otm: %.3f'%gb_otm.score(X_train, y_train))\n",
    "print('A acurácia de Teste do modelo gb_otm: %.3f'%gb_otm.score(X_test, y_test))\n",
    "\n",
    "auc_roc(gb_otm, X_test, y_test)"
   ]
  },
  {
   "cell_type": "markdown",
   "id": "8a138726",
   "metadata": {},
   "source": [
    "Após realizar a otimização dos parâmetros de ambos os modelos, também se faz necessário realizar a validação. Esse processo irá mostrar se o modelo tem um bom poder de generalização para novos dados, ou seja, se ele obtêm resultados próximo quando testado com um conjunto de dados diferente dos dados utilizados nos treinos.\n",
    "\n",
    "As ferramentas utilizadas para verificar esse poder de generalização são o **StratifiedKFold** e o **cross_val_score** que irão separar os dados em 10 amostras diferentes, realizar o treino do modelo com uma destas amostras e testar com as outras 9, retornando 10 scores diferentes e com esses resultados será possível calcular uma média e o desvio padrão."
   ]
  },
  {
   "cell_type": "code",
   "execution_count": 49,
   "id": "7a80a5fe",
   "metadata": {},
   "outputs": [
    {
     "name": "stdout",
     "output_type": "stream",
     "text": [
      "Os scores encontrados foram [0.935, 0.935, 0.928, 0.937, 0.931, 0.932, 0.936, 0.933, 0.936, 0.929]\n",
      "A AUC-ROC média deste modelo é de 93.33%\n",
      "Espera-se que as areas sob a curva encontradas com esse modelo esteja entre [92.73%, 93.93%]\n"
     ]
    }
   ],
   "source": [
    "# Validação do modelo RandomForest (Oversampling)\n",
    "# Definindo o cv\n",
    "cv = StratifiedKFold(n_splits = 10, shuffle= True, random_state= SEED)\n",
    "\n",
    "# Calculando o score \n",
    "score_rf = cross_val_score(rf_otm, X1, y, cv = cv, scoring = 'roc_auc')\n",
    "\n",
    "# Calculando a média e o desvio padrão\n",
    "media_rf = score_rf.mean()*100\n",
    "desv_pad_rf = score_rf.std()*100\n",
    "\n",
    "# Observando o intervalo esperado de AUC_score\n",
    "print('Os scores encontrados foram [%.3f, %.3f, %.3f, %.3f, %.3f, %.3f, %.3f, %.3f, %.3f, %.3f]' %(score_rf[0],score_rf[1], score_rf[2], score_rf[3], score_rf[4], score_rf[5], score_rf[6], score_rf[7], score_rf[8], score_rf[9]))\n",
    "print('A AUC-ROC média deste modelo é de %.2f%%'%media_rf)\n",
    "print('Espera-se que as areas sob a curva encontradas com esse modelo esteja entre [%.2f%%, %.2f%%]'%(media_rf - 2*desv_pad_rf, media_rf + 2* desv_pad_rf))"
   ]
  },
  {
   "cell_type": "code",
   "execution_count": 50,
   "id": "82c6ece9",
   "metadata": {},
   "outputs": [
    {
     "name": "stdout",
     "output_type": "stream",
     "text": [
      "Os scores encontrados foram [0.979, 0.980, 0.973, 0.978, 0.977, 0.979, 0.979, 0.977, 0.979, 0.974]\n",
      "A AUC-ROC média deste modelo é de 97.75%\n",
      "Espera-se que as areas sob a curva encontradas com esse modelo esteja entre [97.35%, 98.15%]\n"
     ]
    }
   ],
   "source": [
    "# Validação do modelo GradientBoosting (Oversampling)\n",
    "# Definindo o cv\n",
    "cv = StratifiedKFold(n_splits = 10, shuffle= True, random_state= SEED)\n",
    "\n",
    "# Calculando o score \n",
    "score_gb = cross_val_score(gb_otm, X1, y, cv = cv, scoring = 'roc_auc')\n",
    "\n",
    "# Calculando a média e o desvio padrão\n",
    "media_gb = score_gb.mean()*100\n",
    "desv_pad_gb = score_gb.std()*100\n",
    "\n",
    "# Observando o intervalo esperado de AUC_score\n",
    "print('Os scores encontrados foram [%.3f, %.3f, %.3f, %.3f, %.3f, %.3f, %.3f, %.3f, %.3f, %.3f]' %(score_gb[0],score_gb[1], score_gb[2], score_gb[3], score_gb[4], score_gb[5], score_gb[6], score_gb[7], score_gb[8], score_gb[9]))\n",
    "print('A AUC-ROC média deste modelo é de %.2f%%'%media_gb)\n",
    "print('Espera-se que as areas sob a curva encontradas com esse modelo esteja entre [%.2f%%, %.2f%%]'%(media_gb - 2*desv_pad_gb, media_gb + 2* desv_pad_gb))"
   ]
  },
  {
   "cell_type": "markdown",
   "id": "0c10d69a",
   "metadata": {},
   "source": [
    "Dentre os dois modelos testado, o **GradientBoosting** foi o que apresentou uma melhor consistência, relativa os resultados obtidos com a validação cruzada, além de uma maior area sob a curva com uma média de 97.75%.  "
   ]
  },
  {
   "cell_type": "code",
   "execution_count": 51,
   "id": "e7e56c27",
   "metadata": {},
   "outputs": [
    {
     "data": {
      "text/html": [
       "<style>#sk-container-id-1 {color: black;background-color: white;}#sk-container-id-1 pre{padding: 0;}#sk-container-id-1 div.sk-toggleable {background-color: white;}#sk-container-id-1 label.sk-toggleable__label {cursor: pointer;display: block;width: 100%;margin-bottom: 0;padding: 0.3em;box-sizing: border-box;text-align: center;}#sk-container-id-1 label.sk-toggleable__label-arrow:before {content: \"▸\";float: left;margin-right: 0.25em;color: #696969;}#sk-container-id-1 label.sk-toggleable__label-arrow:hover:before {color: black;}#sk-container-id-1 div.sk-estimator:hover label.sk-toggleable__label-arrow:before {color: black;}#sk-container-id-1 div.sk-toggleable__content {max-height: 0;max-width: 0;overflow: hidden;text-align: left;background-color: #f0f8ff;}#sk-container-id-1 div.sk-toggleable__content pre {margin: 0.2em;color: black;border-radius: 0.25em;background-color: #f0f8ff;}#sk-container-id-1 input.sk-toggleable__control:checked~div.sk-toggleable__content {max-height: 200px;max-width: 100%;overflow: auto;}#sk-container-id-1 input.sk-toggleable__control:checked~label.sk-toggleable__label-arrow:before {content: \"▾\";}#sk-container-id-1 div.sk-estimator input.sk-toggleable__control:checked~label.sk-toggleable__label {background-color: #d4ebff;}#sk-container-id-1 div.sk-label input.sk-toggleable__control:checked~label.sk-toggleable__label {background-color: #d4ebff;}#sk-container-id-1 input.sk-hidden--visually {border: 0;clip: rect(1px 1px 1px 1px);clip: rect(1px, 1px, 1px, 1px);height: 1px;margin: -1px;overflow: hidden;padding: 0;position: absolute;width: 1px;}#sk-container-id-1 div.sk-estimator {font-family: monospace;background-color: #f0f8ff;border: 1px dotted black;border-radius: 0.25em;box-sizing: border-box;margin-bottom: 0.5em;}#sk-container-id-1 div.sk-estimator:hover {background-color: #d4ebff;}#sk-container-id-1 div.sk-parallel-item::after {content: \"\";width: 100%;border-bottom: 1px solid gray;flex-grow: 1;}#sk-container-id-1 div.sk-label:hover label.sk-toggleable__label {background-color: #d4ebff;}#sk-container-id-1 div.sk-serial::before {content: \"\";position: absolute;border-left: 1px solid gray;box-sizing: border-box;top: 0;bottom: 0;left: 50%;z-index: 0;}#sk-container-id-1 div.sk-serial {display: flex;flex-direction: column;align-items: center;background-color: white;padding-right: 0.2em;padding-left: 0.2em;position: relative;}#sk-container-id-1 div.sk-item {position: relative;z-index: 1;}#sk-container-id-1 div.sk-parallel {display: flex;align-items: stretch;justify-content: center;background-color: white;position: relative;}#sk-container-id-1 div.sk-item::before, #sk-container-id-1 div.sk-parallel-item::before {content: \"\";position: absolute;border-left: 1px solid gray;box-sizing: border-box;top: 0;bottom: 0;left: 50%;z-index: -1;}#sk-container-id-1 div.sk-parallel-item {display: flex;flex-direction: column;z-index: 1;position: relative;background-color: white;}#sk-container-id-1 div.sk-parallel-item:first-child::after {align-self: flex-end;width: 50%;}#sk-container-id-1 div.sk-parallel-item:last-child::after {align-self: flex-start;width: 50%;}#sk-container-id-1 div.sk-parallel-item:only-child::after {width: 0;}#sk-container-id-1 div.sk-dashed-wrapped {border: 1px dashed gray;margin: 0 0.4em 0.5em 0.4em;box-sizing: border-box;padding-bottom: 0.4em;background-color: white;}#sk-container-id-1 div.sk-label label {font-family: monospace;font-weight: bold;display: inline-block;line-height: 1.2em;}#sk-container-id-1 div.sk-label-container {text-align: center;}#sk-container-id-1 div.sk-container {/* jupyter's `normalize.less` sets `[hidden] { display: none; }` but bootstrap.min.css set `[hidden] { display: none !important; }` so we also need the `!important` here to be able to override the default hidden behavior on the sphinx rendered scikit-learn.org. See: https://github.com/scikit-learn/scikit-learn/issues/21755 */display: inline-block !important;position: relative;}#sk-container-id-1 div.sk-text-repr-fallback {display: none;}</style><div id=\"sk-container-id-1\" class=\"sk-top-container\"><div class=\"sk-text-repr-fallback\"><pre>GradientBoostingClassifier(max_leaf_nodes=8, min_samples_leaf=0.02,\n",
       "                           min_samples_split=0.05, n_estimators=500,\n",
       "                           random_state=1457, subsample=1)</pre><b>In a Jupyter environment, please rerun this cell to show the HTML representation or trust the notebook. <br />On GitHub, the HTML representation is unable to render, please try loading this page with nbviewer.org.</b></div><div class=\"sk-container\" hidden><div class=\"sk-item\"><div class=\"sk-estimator sk-toggleable\"><input class=\"sk-toggleable__control sk-hidden--visually\" id=\"sk-estimator-id-1\" type=\"checkbox\" checked><label for=\"sk-estimator-id-1\" class=\"sk-toggleable__label sk-toggleable__label-arrow\">GradientBoostingClassifier</label><div class=\"sk-toggleable__content\"><pre>GradientBoostingClassifier(max_leaf_nodes=8, min_samples_leaf=0.02,\n",
       "                           min_samples_split=0.05, n_estimators=500,\n",
       "                           random_state=1457, subsample=1)</pre></div></div></div></div></div>"
      ],
      "text/plain": [
       "GradientBoostingClassifier(max_leaf_nodes=8, min_samples_leaf=0.02,\n",
       "                           min_samples_split=0.05, n_estimators=500,\n",
       "                           random_state=1457, subsample=1)"
      ]
     },
     "execution_count": 51,
     "metadata": {},
     "output_type": "execute_result"
    }
   ],
   "source": [
    "# Rodando o modelo com todos os dados\n",
    "\n",
    "modelo_gb = GradientBoostingClassifier(learning_rate= 0.1, n_estimators= 500,\n",
    "                                    subsample= 1, min_samples_split= 0.05,\n",
    "                                    min_samples_leaf = 0.02, max_leaf_nodes = 8, random_state = SEED)\n",
    "modelo_gb.fit(X1, y)"
   ]
  },
  {
   "cell_type": "code",
   "execution_count": 53,
   "id": "b8806d73",
   "metadata": {},
   "outputs": [],
   "source": [
    "# Salvando o modelo, o Standard scaler e o Onehot encoder com pickle.\n",
    "import pickle\n",
    "\n",
    "saida = open('../Modelo/modelo_AluraCash.pkl','wb')\n",
    "pickle.dump(modelo_gb, saida)\n",
    "saida.close()\n",
    "\n",
    "saida1 = open('../Modelo/onehot_AluraCash.pkl','wb')\n",
    "pickle.dump(encoding, saida1)\n",
    "saida1.close()\n",
    "\n",
    "saida2 = open('../Modelo/Scaler_AluraCash.pkl', 'wb')\n",
    "pickle.dump(scaler, saida2)\n",
    "saida2.close()"
   ]
  }
 ],
 "metadata": {
  "kernelspec": {
   "display_name": "Python 3 (ipykernel)",
   "language": "python",
   "name": "python3"
  },
  "language_info": {
   "codemirror_mode": {
    "name": "ipython",
    "version": 3
   },
   "file_extension": ".py",
   "mimetype": "text/x-python",
   "name": "python",
   "nbconvert_exporter": "python",
   "pygments_lexer": "ipython3",
   "version": "3.9.7"
  }
 },
 "nbformat": 4,
 "nbformat_minor": 5
}
